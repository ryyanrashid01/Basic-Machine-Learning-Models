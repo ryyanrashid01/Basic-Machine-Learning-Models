{
 "cells": [
  {
   "cell_type": "markdown",
   "id": "ee70b2c5",
   "metadata": {},
   "source": [
    "# 1. Introduction\n",
    "This lab aims to introduce NumPy Arrays and Pandas DataFrame which provides a computational foundation for general numeracal data processing. NumPy N-dimensional array (ndarray) object is a fast, flexible container, typically used for large datasets. Panddas provides high performance, easy to use data structures and data analysis tools for the Python programming language. "
   ]
  },
  {
   "cell_type": "markdown",
   "id": "92198a54",
   "metadata": {},
   "source": [
    "### 1.0.1 NumPy"
   ]
  },
  {
   "cell_type": "markdown",
   "id": "64e52107",
   "metadata": {},
   "source": [
    "#### Creating Arrays\n",
    "First we need to import NumPy library. To create an array use the array function. "
   ]
  },
  {
   "cell_type": "code",
   "execution_count": 1,
   "id": "986ef73f",
   "metadata": {},
   "outputs": [],
   "source": [
    "import numpy as np"
   ]
  },
  {
   "cell_type": "code",
   "execution_count": 2,
   "id": "e3ebccd7",
   "metadata": {},
   "outputs": [],
   "source": [
    "data1 = [2, 5, 4, 8, 0, 1]\n",
    "arr1 = np.array(data1)"
   ]
  },
  {
   "cell_type": "code",
   "execution_count": 3,
   "id": "f8cb9284",
   "metadata": {},
   "outputs": [
    {
     "data": {
      "text/plain": [
       "array([2, 5, 4, 8, 0, 1])"
      ]
     },
     "execution_count": 3,
     "metadata": {},
     "output_type": "execute_result"
    }
   ],
   "source": [
    "arr1"
   ]
  },
  {
   "cell_type": "markdown",
   "id": "9022d0ff",
   "metadata": {},
   "source": [
    "We can create an array using arange. It is a NumPy function that generates values within half-open interval [start, stop). By defeault, the step size is 1. Here, we generate a sequence of values from 0 to 19."
   ]
  },
  {
   "cell_type": "code",
   "execution_count": 4,
   "id": "f362e863",
   "metadata": {},
   "outputs": [],
   "source": [
    "arr1 = np.arange(0,20)"
   ]
  },
  {
   "cell_type": "code",
   "execution_count": 5,
   "id": "f6e388e1",
   "metadata": {},
   "outputs": [
    {
     "data": {
      "text/plain": [
       "array([ 0,  1,  2,  3,  4,  5,  6,  7,  8,  9, 10, 11, 12, 13, 14, 15, 16,\n",
       "       17, 18, 19])"
      ]
     },
     "execution_count": 5,
     "metadata": {},
     "output_type": "execute_result"
    }
   ],
   "source": [
    "arr1"
   ]
  },
  {
   "cell_type": "markdown",
   "id": "bbdd7253",
   "metadata": {},
   "source": [
    "We can specify the step size as follows."
   ]
  },
  {
   "cell_type": "code",
   "execution_count": 6,
   "id": "96439801",
   "metadata": {},
   "outputs": [],
   "source": [
    "arr1 = np.arange(0,2,0.1)"
   ]
  },
  {
   "cell_type": "code",
   "execution_count": 7,
   "id": "17de1757",
   "metadata": {},
   "outputs": [
    {
     "data": {
      "text/plain": [
       "array([0. , 0.1, 0.2, 0.3, 0.4, 0.5, 0.6, 0.7, 0.8, 0.9, 1. , 1.1, 1.2,\n",
       "       1.3, 1.4, 1.5, 1.6, 1.7, 1.8, 1.9])"
      ]
     },
     "execution_count": 7,
     "metadata": {},
     "output_type": "execute_result"
    }
   ],
   "source": [
    "arr1"
   ]
  },
  {
   "cell_type": "markdown",
   "id": "efeb7c30",
   "metadata": {},
   "source": [
    "There are other functions for creating new arrays. <b>zeros</b> and <b>ones</b> create ayyas of 0s and 1s respectively. Here we can use <b>zeros</b> to create an array with length of 10."
   ]
  },
  {
   "cell_type": "code",
   "execution_count": 8,
   "id": "cb821187",
   "metadata": {},
   "outputs": [],
   "source": [
    "arr1 = np.zeros(10)"
   ]
  },
  {
   "cell_type": "code",
   "execution_count": 9,
   "id": "6b4d624a",
   "metadata": {},
   "outputs": [
    {
     "data": {
      "text/plain": [
       "array([0., 0., 0., 0., 0., 0., 0., 0., 0., 0.])"
      ]
     },
     "execution_count": 9,
     "metadata": {},
     "output_type": "execute_result"
    }
   ],
   "source": [
    "arr1"
   ]
  },
  {
   "cell_type": "markdown",
   "id": "f1e1ffaf",
   "metadata": {},
   "source": [
    "Here we use ones to create a two dimensional array by passing a tuple as the size of the array."
   ]
  },
  {
   "cell_type": "code",
   "execution_count": 10,
   "id": "08912f54",
   "metadata": {},
   "outputs": [],
   "source": [
    "arr1 = np.ones((3,4))"
   ]
  },
  {
   "cell_type": "code",
   "execution_count": 11,
   "id": "340684c2",
   "metadata": {},
   "outputs": [
    {
     "data": {
      "text/plain": [
       "array([[1., 1., 1., 1.],\n",
       "       [1., 1., 1., 1.],\n",
       "       [1., 1., 1., 1.]])"
      ]
     },
     "execution_count": 11,
     "metadata": {},
     "output_type": "execute_result"
    }
   ],
   "source": [
    "arr1"
   ]
  },
  {
   "cell_type": "markdown",
   "id": "840ace26",
   "metadata": {},
   "source": [
    "We can create a multidimensional array by manually specifying the elements. Here we create an array (arr2) of two dimensions. The shape of the array will be inferred from the data."
   ]
  },
  {
   "cell_type": "code",
   "execution_count": 12,
   "id": "9486e951",
   "metadata": {},
   "outputs": [],
   "source": [
    "data2 = [[3, 4.9, -2.5, 1.7], [-5.2, -3.1, 7.4, 3.6], [4.2, 6.8, -4.3, -5.7]]"
   ]
  },
  {
   "cell_type": "code",
   "execution_count": 13,
   "id": "c95c2d1d",
   "metadata": {},
   "outputs": [],
   "source": [
    "arr2 = np.array(data2)"
   ]
  },
  {
   "cell_type": "code",
   "execution_count": 14,
   "id": "8cca4925",
   "metadata": {},
   "outputs": [
    {
     "data": {
      "text/plain": [
       "array([[ 3. ,  4.9, -2.5,  1.7],\n",
       "       [-5.2, -3.1,  7.4,  3.6],\n",
       "       [ 4.2,  6.8, -4.3, -5.7]])"
      ]
     },
     "execution_count": 14,
     "metadata": {},
     "output_type": "execute_result"
    }
   ],
   "source": [
    "arr2"
   ]
  },
  {
   "cell_type": "markdown",
   "id": "91138d96",
   "metadata": {},
   "source": [
    "We can confirm this by inspecting the <b>ndim</b> and <b>shape</b> attributes."
   ]
  },
  {
   "cell_type": "code",
   "execution_count": 15,
   "id": "7662b0a7",
   "metadata": {},
   "outputs": [
    {
     "data": {
      "text/plain": [
       "2"
      ]
     },
     "execution_count": 15,
     "metadata": {},
     "output_type": "execute_result"
    }
   ],
   "source": [
    "arr2.ndim"
   ]
  },
  {
   "cell_type": "code",
   "execution_count": 16,
   "id": "0aaa7ebd",
   "metadata": {},
   "outputs": [
    {
     "data": {
      "text/plain": [
       "(3, 4)"
      ]
     },
     "execution_count": 16,
     "metadata": {},
     "output_type": "execute_result"
    }
   ],
   "source": [
    "arr2.shape"
   ]
  },
  {
   "cell_type": "markdown",
   "id": "6a837040",
   "metadata": {},
   "source": [
    "#### Indexing and Slicing\n",
    "We can access the elements in the array by using index and square bracket []. Here we are accessing the third element in the array."
   ]
  },
  {
   "cell_type": "code",
   "execution_count": 17,
   "id": "7c460e70",
   "metadata": {},
   "outputs": [
    {
     "data": {
      "text/plain": [
       "array([1., 1., 1., 1.])"
      ]
     },
     "execution_count": 17,
     "metadata": {},
     "output_type": "execute_result"
    }
   ],
   "source": [
    "arr1[2]"
   ]
  },
  {
   "cell_type": "markdown",
   "id": "74097a03",
   "metadata": {},
   "source": [
    "The same index notation is used to access the elements in multidimensional array. But we need to specify two indexes row, column. Here we are accessing element at the first row and second column."
   ]
  },
  {
   "cell_type": "code",
   "execution_count": 18,
   "id": "c8788a60",
   "metadata": {},
   "outputs": [
    {
     "data": {
      "text/plain": [
       "4.9"
      ]
     },
     "execution_count": 18,
     "metadata": {},
     "output_type": "execute_result"
    }
   ],
   "source": [
    "arr2[0,1]"
   ]
  },
  {
   "cell_type": "markdown",
   "id": "049ee5b3",
   "metadata": {},
   "source": [
    "Slicing an array is similar to slicing a list. We need to specify start:stop in the square bracket []."
   ]
  },
  {
   "cell_type": "code",
   "execution_count": 19,
   "id": "78c714ac",
   "metadata": {},
   "outputs": [
    {
     "data": {
      "text/plain": [
       "array([[1., 1., 1., 1.]])"
      ]
     },
     "execution_count": 19,
     "metadata": {},
     "output_type": "execute_result"
    }
   ],
   "source": [
    "arr1[2:5]"
   ]
  },
  {
   "cell_type": "markdown",
   "id": "7ae8e3f9",
   "metadata": {},
   "source": [
    "To slice multidimensional array, we need to specify two start:stop, each for row and column. Here we are selecting the first two rows and last three columns. "
   ]
  },
  {
   "cell_type": "code",
   "execution_count": 20,
   "id": "9be2da82",
   "metadata": {},
   "outputs": [
    {
     "data": {
      "text/plain": [
       "array([[ 4.9, -2.5,  1.7],\n",
       "       [-3.1,  7.4,  3.6]])"
      ]
     },
     "execution_count": 20,
     "metadata": {},
     "output_type": "execute_result"
    }
   ],
   "source": [
    "arr2[0:2, 1:4]"
   ]
  },
  {
   "cell_type": "markdown",
   "id": "def929ba",
   "metadata": {},
   "source": [
    "### 1.0.2 Arithmetic"
   ]
  },
  {
   "cell_type": "markdown",
   "id": "8ffbcc7e",
   "metadata": {},
   "source": [
    "NumPy enables batch operations on data or what is known as vectorization. Any arithmetic operations between equal-size arrays applies the operation element-wise. Let's create another array called arr3. We are going to use the <b>randn</b> function to generate some random nnormally distributed data."
   ]
  },
  {
   "cell_type": "code",
   "execution_count": 21,
   "id": "a518ae85",
   "metadata": {},
   "outputs": [],
   "source": [
    "arr3 = np.random.randn(3,4)"
   ]
  },
  {
   "cell_type": "code",
   "execution_count": 22,
   "id": "cd7064c8",
   "metadata": {},
   "outputs": [
    {
     "data": {
      "text/plain": [
       "array([[ 0.15871994, -1.10138556,  0.02429916, -1.43385989],\n",
       "       [ 0.24381828, -1.16598724, -1.66770287,  0.39813812],\n",
       "       [-0.77445368, -1.9141633 ,  1.53969353,  0.50608273]])"
      ]
     },
     "execution_count": 22,
     "metadata": {},
     "output_type": "execute_result"
    }
   ],
   "source": [
    "arr3"
   ]
  },
  {
   "cell_type": "markdown",
   "id": "845d0d72",
   "metadata": {},
   "source": [
    "Now, let's perofrm addition operation between the arr2 and arr3 and store the result in arr4."
   ]
  },
  {
   "cell_type": "code",
   "execution_count": 23,
   "id": "2e565ba6",
   "metadata": {},
   "outputs": [],
   "source": [
    "arr4 = arr2 + arr3"
   ]
  },
  {
   "cell_type": "code",
   "execution_count": 24,
   "id": "41dcc049",
   "metadata": {},
   "outputs": [
    {
     "data": {
      "text/plain": [
       "array([[ 3.15871994,  3.79861444, -2.47570084,  0.26614011],\n",
       "       [-4.95618172, -4.26598724,  5.73229713,  3.99813812],\n",
       "       [ 3.42554632,  4.8858367 , -2.76030647, -5.19391727]])"
      ]
     },
     "execution_count": 24,
     "metadata": {},
     "output_type": "execute_result"
    }
   ],
   "source": [
    "arr4"
   ]
  },
  {
   "cell_type": "markdown",
   "id": "f2f5431c",
   "metadata": {},
   "source": [
    "We can perform subtraction, multiplication and division using following operators.<br>\n",
    "subtraction -, multiplication * and division / <br>\n",
    "Here we perform multiplication between the arrays."
   ]
  },
  {
   "cell_type": "code",
   "execution_count": 25,
   "id": "23077627",
   "metadata": {},
   "outputs": [],
   "source": [
    "arr4 = arr2 * arr3"
   ]
  },
  {
   "cell_type": "code",
   "execution_count": 26,
   "id": "14f5de18",
   "metadata": {},
   "outputs": [
    {
     "data": {
      "text/plain": [
       "array([[  0.47615983,  -5.39678925,  -0.06074791,  -2.43756181],\n",
       "       [ -1.26785503,   3.61456044, -12.34100121,   1.43329722],\n",
       "       [ -3.25270544, -13.01631044,  -6.62068219,  -2.88467156]])"
      ]
     },
     "execution_count": 26,
     "metadata": {},
     "output_type": "execute_result"
    }
   ],
   "source": [
    "arr4"
   ]
  },
  {
   "cell_type": "markdown",
   "id": "6cf5b4d7",
   "metadata": {},
   "source": [
    "We can perform comparison between arrays of the same size which will yield a boolean array. Here we test if elements in arr2 are greater than elements in arr3 or not."
   ]
  },
  {
   "cell_type": "code",
   "execution_count": 27,
   "id": "b75474ba",
   "metadata": {},
   "outputs": [
    {
     "data": {
      "text/plain": [
       "array([[ True,  True, False,  True],\n",
       "       [False, False,  True,  True],\n",
       "       [ True,  True, False, False]])"
      ]
     },
     "execution_count": 27,
     "metadata": {},
     "output_type": "execute_result"
    }
   ],
   "source": [
    "arr2 > arr3"
   ]
  },
  {
   "cell_type": "markdown",
   "id": "35e0b636",
   "metadata": {},
   "source": [
    "Transposing an array (matrix) is performed using a special T attribute."
   ]
  },
  {
   "cell_type": "code",
   "execution_count": 28,
   "id": "266bfc54",
   "metadata": {},
   "outputs": [
    {
     "data": {
      "text/plain": [
       "array([[ 3. , -5.2,  4.2],\n",
       "       [ 4.9, -3.1,  6.8],\n",
       "       [-2.5,  7.4, -4.3],\n",
       "       [ 1.7,  3.6, -5.7]])"
      ]
     },
     "execution_count": 28,
     "metadata": {},
     "output_type": "execute_result"
    }
   ],
   "source": [
    "arr2.T"
   ]
  },
  {
   "cell_type": "markdown",
   "id": "30b15558",
   "metadata": {},
   "source": [
    "We can perform a matrix computation such as dot product using <b>dot</b> function. Here we perform dot product between arr2 and arr3. We transpose arr2."
   ]
  },
  {
   "cell_type": "code",
   "execution_count": 29,
   "id": "4639f3b8",
   "metadata": {},
   "outputs": [],
   "source": [
    "arr4 = np.dot(arr2.T, arr3)"
   ]
  },
  {
   "cell_type": "code",
   "execution_count": 30,
   "id": "a5e8d064",
   "metadata": {},
   "outputs": [
    {
     "data": {
      "text/plain": [
       "array([[ -4.04440064,  -5.2805089 ,  15.21166522,  -4.24635041],\n",
       "       [ -5.24439392, -14.79853925,  15.7588608 ,  -4.81877905],\n",
       "       [  4.73760619,   2.35606052, -19.0224313 ,   4.35471605],\n",
       "       [  5.56195565,   4.84082129, -14.73867487,  -3.88893615]])"
      ]
     },
     "execution_count": 30,
     "metadata": {},
     "output_type": "execute_result"
    }
   ],
   "source": [
    "arr4"
   ]
  },
  {
   "cell_type": "markdown",
   "id": "b4fb324d",
   "metadata": {},
   "source": [
    "#### Mathematical and statistical methods for arrays\n",
    "NumPy provides methematical element-wise operations on data in arrays. <br><br>\n",
    "Square root: sqrt Square: square Exponent: exp Logarithm (base 3): log Logarithm (base 10): log10 Logarithm (base 2) : log2 Regular and hyperbolic trignometric: cos, cosh, sin, sinh, tan, tanh Inverse trigonometric: arccos, arccosh, arcsin, arcsinh, arctan, arctanh"
   ]
  },
  {
   "cell_type": "code",
   "execution_count": 31,
   "id": "0af60795",
   "metadata": {},
   "outputs": [],
   "source": [
    "arr4 = np.array([0,1,2,3,4,5,6,7,8])"
   ]
  },
  {
   "cell_type": "markdown",
   "id": "7d72ba8d",
   "metadata": {},
   "source": [
    "Here we perform element-wise transformation i.e. square root and exponent."
   ]
  },
  {
   "cell_type": "code",
   "execution_count": 32,
   "id": "52dc0ea9",
   "metadata": {},
   "outputs": [
    {
     "data": {
      "text/plain": [
       "array([0.        , 1.        , 1.41421356, 1.73205081, 2.        ,\n",
       "       2.23606798, 2.44948974, 2.64575131, 2.82842712])"
      ]
     },
     "execution_count": 32,
     "metadata": {},
     "output_type": "execute_result"
    }
   ],
   "source": [
    "np.sqrt(arr4)"
   ]
  },
  {
   "cell_type": "code",
   "execution_count": 33,
   "id": "a4e6ac0f",
   "metadata": {},
   "outputs": [
    {
     "data": {
      "text/plain": [
       "array([1.00000000e+00, 2.71828183e+00, 7.38905610e+00, 2.00855369e+01,\n",
       "       5.45981500e+01, 1.48413159e+02, 4.03428793e+02, 1.09663316e+03,\n",
       "       2.98095799e+03])"
      ]
     },
     "execution_count": 33,
     "metadata": {},
     "output_type": "execute_result"
    }
   ],
   "source": [
    "np.exp(arr4)"
   ]
  },
  {
   "cell_type": "markdown",
   "id": "83b49fe7",
   "metadata": {},
   "source": [
    "Numpy also provides mathematical functions that compute statistics about an entire array or about the data along an axis."
   ]
  },
  {
   "cell_type": "markdown",
   "id": "9304b8f2",
   "metadata": {},
   "source": [
    "Sum of all elements in the array or along an axis: <b>sum</b> Arithmetic mean: <b>mean</b> Standard deviation and variance: <b>std</b>, <b>var</b> Minimum and maximum: <b>min</b>, <b>max</b> Indices of minimum and maximum elements: <b>argmin</b>, <b>argmax</b> Cumulative sum of elements starting from 0: <b>cumsum</b> Cummulative product of elements starting from 1: <b>cumprod</b>"
   ]
  },
  {
   "cell_type": "code",
   "execution_count": 34,
   "id": "1c872c4a",
   "metadata": {},
   "outputs": [],
   "source": [
    "arr4 = np.random.randn(2,3)"
   ]
  },
  {
   "cell_type": "code",
   "execution_count": 35,
   "id": "7e87da61",
   "metadata": {},
   "outputs": [
    {
     "data": {
      "text/plain": [
       "array([[-0.33475437, -0.19599102,  0.48346306],\n",
       "       [ 0.06125897, -0.48613045, -0.61257556]])"
      ]
     },
     "execution_count": 35,
     "metadata": {},
     "output_type": "execute_result"
    }
   ],
   "source": [
    "arr4"
   ]
  },
  {
   "cell_type": "markdown",
   "id": "5b679478",
   "metadata": {},
   "source": [
    "Here we compute the mean of the entire data."
   ]
  },
  {
   "cell_type": "code",
   "execution_count": 36,
   "id": "5e8e819a",
   "metadata": {},
   "outputs": [
    {
     "data": {
      "text/plain": [
       "-0.18078822798085983"
      ]
     },
     "execution_count": 36,
     "metadata": {},
     "output_type": "execute_result"
    }
   ],
   "source": [
    "np.mean(arr4)"
   ]
  },
  {
   "cell_type": "markdown",
   "id": "35e6e9cd",
   "metadata": {},
   "source": [
    "We can perform mean of the data along an axis. Here axis=0 means \"compute mean across the row\"."
   ]
  },
  {
   "cell_type": "code",
   "execution_count": 37,
   "id": "87564629",
   "metadata": {},
   "outputs": [
    {
     "data": {
      "text/plain": [
       "array([-0.1367477 , -0.34106074, -0.06455625])"
      ]
     },
     "execution_count": 37,
     "metadata": {},
     "output_type": "execute_result"
    }
   ],
   "source": [
    "np.mean(arr4, axis=0)"
   ]
  },
  {
   "cell_type": "markdown",
   "id": "41871b50",
   "metadata": {},
   "source": [
    "axis=1 means \"compute mean across the column\"."
   ]
  },
  {
   "cell_type": "code",
   "execution_count": 38,
   "id": "27dc07b6",
   "metadata": {},
   "outputs": [
    {
     "data": {
      "text/plain": [
       "array([-0.01576078, -0.34581568])"
      ]
     },
     "execution_count": 38,
     "metadata": {},
     "output_type": "execute_result"
    }
   ],
   "source": [
    "np.mean(arr4, axis=1)"
   ]
  },
  {
   "cell_type": "markdown",
   "id": "38bb2843",
   "metadata": {},
   "source": [
    "#### Reshaping, concatenating and splitting arrays\n",
    "In many cases, we need to convert an array from one shape to another. NumPy uses row major order when reshaping arrays. In row major order, the consecutive elements of a row reside next to each other. Here we reshape arr1 a one-dimensional array to two-dimensional array."
   ]
  },
  {
   "cell_type": "code",
   "execution_count": 39,
   "id": "dfeac33c",
   "metadata": {},
   "outputs": [],
   "source": [
    "arr1 = np.arange(0,9)"
   ]
  },
  {
   "cell_type": "code",
   "execution_count": 40,
   "id": "d8ce7782",
   "metadata": {},
   "outputs": [
    {
     "data": {
      "text/plain": [
       "array([0, 1, 2, 3, 4, 5, 6, 7, 8])"
      ]
     },
     "execution_count": 40,
     "metadata": {},
     "output_type": "execute_result"
    }
   ],
   "source": [
    "arr1"
   ]
  },
  {
   "cell_type": "code",
   "execution_count": 41,
   "id": "671d1543",
   "metadata": {},
   "outputs": [
    {
     "data": {
      "text/plain": [
       "array([[0, 1, 2],\n",
       "       [3, 4, 5],\n",
       "       [6, 7, 8]])"
      ]
     },
     "execution_count": 41,
     "metadata": {},
     "output_type": "execute_result"
    }
   ],
   "source": [
    "arr1.reshape((3,3))"
   ]
  },
  {
   "cell_type": "markdown",
   "id": "64682475",
   "metadata": {},
   "source": [
    "We can let the NumPy to infer the dimension from the data. Here we specify -1 to infer the dimension of the column from the data."
   ]
  },
  {
   "cell_type": "code",
   "execution_count": 42,
   "id": "3cf4f8bd",
   "metadata": {},
   "outputs": [],
   "source": [
    "arr1 = np.arange(0,12)"
   ]
  },
  {
   "cell_type": "code",
   "execution_count": 43,
   "id": "b344c130",
   "metadata": {},
   "outputs": [
    {
     "data": {
      "text/plain": [
       "array([ 0,  1,  2,  3,  4,  5,  6,  7,  8,  9, 10, 11])"
      ]
     },
     "execution_count": 43,
     "metadata": {},
     "output_type": "execute_result"
    }
   ],
   "source": [
    "arr1"
   ]
  },
  {
   "cell_type": "code",
   "execution_count": 44,
   "id": "7a0d2b01",
   "metadata": {},
   "outputs": [
    {
     "data": {
      "text/plain": [
       "array([[ 0,  1,  2],\n",
       "       [ 3,  4,  5],\n",
       "       [ 6,  7,  8],\n",
       "       [ 9, 10, 11]])"
      ]
     },
     "execution_count": 44,
     "metadata": {},
     "output_type": "execute_result"
    }
   ],
   "source": [
    "arr1.reshape((4, -1))"
   ]
  },
  {
   "cell_type": "markdown",
   "id": "7d5556b8",
   "metadata": {},
   "source": [
    "The opposite operation of reshape is known as flattening. Here we flatten arr1 to one-dimensional array."
   ]
  },
  {
   "cell_type": "code",
   "execution_count": 45,
   "id": "b2e2e357",
   "metadata": {},
   "outputs": [
    {
     "data": {
      "text/plain": [
       "array([ 0,  1,  2,  3,  4,  5,  6,  7,  8,  9, 10, 11])"
      ]
     },
     "execution_count": 45,
     "metadata": {},
     "output_type": "execute_result"
    }
   ],
   "source": [
    "arr1.flatten()"
   ]
  },
  {
   "cell_type": "markdown",
   "id": "0d1a3aca",
   "metadata": {},
   "source": [
    "Two arrays can be concatenated to form a single array. The concatenate function takes a sequence of arrays and join them together in order along the input axis."
   ]
  },
  {
   "cell_type": "code",
   "execution_count": 46,
   "id": "497d6c86",
   "metadata": {},
   "outputs": [],
   "source": [
    "arr1 = np.array([[1, 2, 3], [4, 5, 6]])\n",
    "arr2 = np.array([[7, 8, 9], [10, 11, 12]])"
   ]
  },
  {
   "cell_type": "markdown",
   "id": "e37bbadc",
   "metadata": {},
   "source": [
    "Here we concatenate the arrays along the row axis."
   ]
  },
  {
   "cell_type": "code",
   "execution_count": 47,
   "id": "55ede33d",
   "metadata": {},
   "outputs": [
    {
     "data": {
      "text/plain": [
       "array([[ 1,  2,  3],\n",
       "       [ 4,  5,  6],\n",
       "       [ 7,  8,  9],\n",
       "       [10, 11, 12]])"
      ]
     },
     "execution_count": 47,
     "metadata": {},
     "output_type": "execute_result"
    }
   ],
   "source": [
    "np.concatenate([arr1, arr2], axis=0)"
   ]
  },
  {
   "cell_type": "markdown",
   "id": "1c7529e2",
   "metadata": {},
   "source": [
    "Here we can concatenate the arrays along the column axis."
   ]
  },
  {
   "cell_type": "code",
   "execution_count": 48,
   "id": "917de6a0",
   "metadata": {},
   "outputs": [
    {
     "data": {
      "text/plain": [
       "array([[ 1,  2,  3,  7,  8,  9],\n",
       "       [ 4,  5,  6, 10, 11, 12]])"
      ]
     },
     "execution_count": 48,
     "metadata": {},
     "output_type": "execute_result"
    }
   ],
   "source": [
    "np.concatenate([arr1, arr2], axis=1)"
   ]
  },
  {
   "cell_type": "markdown",
   "id": "eb1f1f9a",
   "metadata": {},
   "source": [
    "We can split an array into multiple arrays along an axis. If such a split is not possible, an error is raised."
   ]
  },
  {
   "cell_type": "code",
   "execution_count": 49,
   "id": "69debe4f",
   "metadata": {},
   "outputs": [],
   "source": [
    "arr1 = np.random.randn(6, 2)"
   ]
  },
  {
   "cell_type": "code",
   "execution_count": 50,
   "id": "6da0cbbc",
   "metadata": {},
   "outputs": [
    {
     "data": {
      "text/plain": [
       "array([[ 1.22152001, -1.39956223],\n",
       "       [-0.56892279, -2.2945763 ],\n",
       "       [-0.21400151, -0.91838446],\n",
       "       [ 0.39123937, -0.28990437],\n",
       "       [ 1.73674895, -0.42479259],\n",
       "       [-0.9456671 ,  0.10861245]])"
      ]
     },
     "execution_count": 50,
     "metadata": {},
     "output_type": "execute_result"
    }
   ],
   "source": [
    "arr1"
   ]
  },
  {
   "cell_type": "markdown",
   "id": "9bc9b459",
   "metadata": {},
   "source": [
    "Here we split arr1 into two along row axis."
   ]
  },
  {
   "cell_type": "code",
   "execution_count": 51,
   "id": "25e5f2d2",
   "metadata": {},
   "outputs": [],
   "source": [
    "first, sec = np.split(arr1, 2, axis=0)"
   ]
  },
  {
   "cell_type": "code",
   "execution_count": 52,
   "id": "83ab90fc",
   "metadata": {},
   "outputs": [
    {
     "data": {
      "text/plain": [
       "array([[ 1.22152001, -1.39956223],\n",
       "       [-0.56892279, -2.2945763 ],\n",
       "       [-0.21400151, -0.91838446]])"
      ]
     },
     "execution_count": 52,
     "metadata": {},
     "output_type": "execute_result"
    }
   ],
   "source": [
    "first"
   ]
  },
  {
   "cell_type": "code",
   "execution_count": 53,
   "id": "6a531e2f",
   "metadata": {},
   "outputs": [
    {
     "data": {
      "text/plain": [
       "array([[ 0.39123937, -0.28990437],\n",
       "       [ 1.73674895, -0.42479259],\n",
       "       [-0.9456671 ,  0.10861245]])"
      ]
     },
     "execution_count": 53,
     "metadata": {},
     "output_type": "execute_result"
    }
   ],
   "source": [
    "sec"
   ]
  },
  {
   "cell_type": "markdown",
   "id": "693205f7",
   "metadata": {},
   "source": [
    "We can define where along axis the array is split. For example, ```[1,3]``` will result in ```arr[:1]``` ```arr[1:3]``` ```arr[3:]```"
   ]
  },
  {
   "cell_type": "code",
   "execution_count": 54,
   "id": "35928ba0",
   "metadata": {},
   "outputs": [],
   "source": [
    "first, sec, third = np.split(arr1, [1,3], axis=0)"
   ]
  },
  {
   "cell_type": "code",
   "execution_count": 55,
   "id": "d86a2fe7",
   "metadata": {},
   "outputs": [
    {
     "data": {
      "text/plain": [
       "array([[ 1.22152001, -1.39956223]])"
      ]
     },
     "execution_count": 55,
     "metadata": {},
     "output_type": "execute_result"
    }
   ],
   "source": [
    "first"
   ]
  },
  {
   "cell_type": "code",
   "execution_count": 56,
   "id": "a3dac7c9",
   "metadata": {},
   "outputs": [
    {
     "data": {
      "text/plain": [
       "array([[-0.56892279, -2.2945763 ],\n",
       "       [-0.21400151, -0.91838446]])"
      ]
     },
     "execution_count": 56,
     "metadata": {},
     "output_type": "execute_result"
    }
   ],
   "source": [
    "sec"
   ]
  },
  {
   "cell_type": "code",
   "execution_count": 57,
   "id": "74e7152b",
   "metadata": {},
   "outputs": [
    {
     "data": {
      "text/plain": [
       "array([[ 0.39123937, -0.28990437],\n",
       "       [ 1.73674895, -0.42479259],\n",
       "       [-0.9456671 ,  0.10861245]])"
      ]
     },
     "execution_count": 57,
     "metadata": {},
     "output_type": "execute_result"
    }
   ],
   "source": [
    "third"
   ]
  },
  {
   "cell_type": "markdown",
   "id": "0e99a333",
   "metadata": {},
   "source": [
    "### 1.0.3 Pandas"
   ]
  },
  {
   "cell_type": "markdown",
   "id": "208dfcb8",
   "metadata": {},
   "source": [
    "Pandas provides high-performance, easy to use data structures and data analysis tools for the Python programming language."
   ]
  },
  {
   "cell_type": "markdown",
   "id": "de8f44de",
   "metadata": {},
   "source": [
    "#### Series\n",
    "A series is a one-dimensional array-like object containing a sequence of values (of similar types to NumPy types) and an associated array of data labels, called its index."
   ]
  },
  {
   "cell_type": "markdown",
   "id": "7e60e08c",
   "metadata": {},
   "source": [
    "First we need to import Pandas library"
   ]
  },
  {
   "cell_type": "code",
   "execution_count": 58,
   "id": "f88a0c22",
   "metadata": {},
   "outputs": [],
   "source": [
    "import pandas as pd"
   ]
  },
  {
   "cell_type": "markdown",
   "id": "874791bd",
   "metadata": {},
   "source": [
    "The simplest Series is formed from only a sequence of data (list). Notice the indexes are automatically generated and each element is associated with an index."
   ]
  },
  {
   "cell_type": "code",
   "execution_count": 59,
   "id": "4fae8f80",
   "metadata": {},
   "outputs": [],
   "source": [
    "data1 = [2, 5, 4, 8, 0, 1]\n",
    "sr1 = pd.Series(data1)"
   ]
  },
  {
   "cell_type": "markdown",
   "id": "7872629a",
   "metadata": {},
   "source": [
    "Here we display the content of the Series without displaying the index."
   ]
  },
  {
   "cell_type": "code",
   "execution_count": 60,
   "id": "5295f3e0",
   "metadata": {},
   "outputs": [
    {
     "data": {
      "text/plain": [
       "array([2, 5, 4, 8, 0, 1])"
      ]
     },
     "execution_count": 60,
     "metadata": {},
     "output_type": "execute_result"
    }
   ],
   "source": [
    "sr1.values"
   ]
  },
  {
   "cell_type": "markdown",
   "id": "f9058b89",
   "metadata": {},
   "source": [
    "We access the elements in a Series using index notation."
   ]
  },
  {
   "cell_type": "code",
   "execution_count": 61,
   "id": "e47a0650",
   "metadata": {},
   "outputs": [
    {
     "data": {
      "text/plain": [
       "4"
      ]
     },
     "execution_count": 61,
     "metadata": {},
     "output_type": "execute_result"
    }
   ],
   "source": [
    "sr1[2]"
   ]
  },
  {
   "cell_type": "markdown",
   "id": "d6e71487",
   "metadata": {},
   "source": [
    "We can specify own indexes for each element."
   ]
  },
  {
   "cell_type": "code",
   "execution_count": 62,
   "id": "9da0ae83",
   "metadata": {},
   "outputs": [],
   "source": [
    "sr2 = pd.Series([4, 7, 1, -2], index=['b', 'd', 'f', 'c'])"
   ]
  },
  {
   "cell_type": "code",
   "execution_count": 63,
   "id": "48fa1899",
   "metadata": {},
   "outputs": [
    {
     "data": {
      "text/plain": [
       "7"
      ]
     },
     "execution_count": 63,
     "metadata": {},
     "output_type": "execute_result"
    }
   ],
   "source": [
    "sr2['d']"
   ]
  },
  {
   "cell_type": "markdown",
   "id": "2db04694",
   "metadata": {},
   "source": [
    "We can perform element-wise arithmetic operation such as addition, subtraction, multiplication and division on a Series. The operation preserves the index-value link."
   ]
  },
  {
   "cell_type": "code",
   "execution_count": 64,
   "id": "5c0adc51",
   "metadata": {},
   "outputs": [
    {
     "data": {
      "text/plain": [
       "b     8\n",
       "d    14\n",
       "f     2\n",
       "c    -4\n",
       "dtype: int64"
      ]
     },
     "execution_count": 64,
     "metadata": {},
     "output_type": "execute_result"
    }
   ],
   "source": [
    "sr2 * 2"
   ]
  },
  {
   "cell_type": "code",
   "execution_count": 65,
   "id": "7d526f64",
   "metadata": {},
   "outputs": [
    {
     "data": {
      "text/plain": [
       "b      54.598150\n",
       "d    1096.633158\n",
       "f       2.718282\n",
       "c       0.135335\n",
       "dtype: float64"
      ]
     },
     "execution_count": 65,
     "metadata": {},
     "output_type": "execute_result"
    }
   ],
   "source": [
    "np.exp(sr2)"
   ]
  },
  {
   "cell_type": "markdown",
   "id": "c20ba545",
   "metadata": {},
   "source": [
    "#### DataFrame\n",
    "A DataFrame represents a rectangular table of data and contains an ordered collection of columns, each of which can be a different value type (numeric, string, etc.). The resulting DataFrame will have its index assigned automatically."
   ]
  },
  {
   "cell_type": "code",
   "execution_count": 66,
   "id": "b34cc5e8",
   "metadata": {},
   "outputs": [],
   "source": [
    "data = {'university': ['USM', 'UM', 'UPM', 'UKM', 'UTM', 'UiTM', 'UniMAP', 'UTHM'], \n",
    "       'year': [1969, 1905, 1931, 1970, 1972, 1956, 2001, 1993],\n",
    "       'location': ['Pulau Pinang', 'Kuala Lumpur', 'Serdang, Selangor', 'Bangi, Selangor', 'Skudai, Johor', 'Shah Alam, Selangor', 'Arau, Perlis', 'Batu Pahat, Johor']}"
   ]
  },
  {
   "cell_type": "code",
   "execution_count": 67,
   "id": "cd2e55a8",
   "metadata": {},
   "outputs": [],
   "source": [
    "fm1 = pd.DataFrame(data)"
   ]
  },
  {
   "cell_type": "markdown",
   "id": "ec0cc6ac",
   "metadata": {},
   "source": [
    "The head method can be used to select only the first five rows."
   ]
  },
  {
   "cell_type": "code",
   "execution_count": 68,
   "id": "8d3296c3",
   "metadata": {},
   "outputs": [
    {
     "data": {
      "text/html": [
       "<div>\n",
       "<style scoped>\n",
       "    .dataframe tbody tr th:only-of-type {\n",
       "        vertical-align: middle;\n",
       "    }\n",
       "\n",
       "    .dataframe tbody tr th {\n",
       "        vertical-align: top;\n",
       "    }\n",
       "\n",
       "    .dataframe thead th {\n",
       "        text-align: right;\n",
       "    }\n",
       "</style>\n",
       "<table border=\"1\" class=\"dataframe\">\n",
       "  <thead>\n",
       "    <tr style=\"text-align: right;\">\n",
       "      <th></th>\n",
       "      <th>university</th>\n",
       "      <th>year</th>\n",
       "      <th>location</th>\n",
       "    </tr>\n",
       "  </thead>\n",
       "  <tbody>\n",
       "    <tr>\n",
       "      <th>0</th>\n",
       "      <td>USM</td>\n",
       "      <td>1969</td>\n",
       "      <td>Pulau Pinang</td>\n",
       "    </tr>\n",
       "    <tr>\n",
       "      <th>1</th>\n",
       "      <td>UM</td>\n",
       "      <td>1905</td>\n",
       "      <td>Kuala Lumpur</td>\n",
       "    </tr>\n",
       "    <tr>\n",
       "      <th>2</th>\n",
       "      <td>UPM</td>\n",
       "      <td>1931</td>\n",
       "      <td>Serdang, Selangor</td>\n",
       "    </tr>\n",
       "    <tr>\n",
       "      <th>3</th>\n",
       "      <td>UKM</td>\n",
       "      <td>1970</td>\n",
       "      <td>Bangi, Selangor</td>\n",
       "    </tr>\n",
       "    <tr>\n",
       "      <th>4</th>\n",
       "      <td>UTM</td>\n",
       "      <td>1972</td>\n",
       "      <td>Skudai, Johor</td>\n",
       "    </tr>\n",
       "  </tbody>\n",
       "</table>\n",
       "</div>"
      ],
      "text/plain": [
       "  university  year           location\n",
       "0        USM  1969       Pulau Pinang\n",
       "1         UM  1905       Kuala Lumpur\n",
       "2        UPM  1931  Serdang, Selangor\n",
       "3        UKM  1970    Bangi, Selangor\n",
       "4        UTM  1972      Skudai, Johor"
      ]
     },
     "execution_count": 68,
     "metadata": {},
     "output_type": "execute_result"
    }
   ],
   "source": [
    "fm1.head()"
   ]
  },
  {
   "cell_type": "markdown",
   "id": "07ea46ce",
   "metadata": {},
   "source": [
    "A column can be retrieved by specifying the column name."
   ]
  },
  {
   "cell_type": "code",
   "execution_count": 69,
   "id": "1bc8461e",
   "metadata": {},
   "outputs": [
    {
     "data": {
      "text/plain": [
       "0       USM\n",
       "1        UM\n",
       "2       UPM\n",
       "3       UKM\n",
       "4       UTM\n",
       "5      UiTM\n",
       "6    UniMAP\n",
       "7      UTHM\n",
       "Name: university, dtype: object"
      ]
     },
     "execution_count": 69,
     "metadata": {},
     "output_type": "execute_result"
    }
   ],
   "source": [
    "fm1['university']"
   ]
  },
  {
   "cell_type": "code",
   "execution_count": 70,
   "id": "d974765d",
   "metadata": {},
   "outputs": [
    {
     "data": {
      "text/plain": [
       "0    1969\n",
       "1    1905\n",
       "2    1931\n",
       "3    1970\n",
       "4    1972\n",
       "5    1956\n",
       "6    2001\n",
       "7    1993\n",
       "Name: year, dtype: int64"
      ]
     },
     "execution_count": 70,
     "metadata": {},
     "output_type": "execute_result"
    }
   ],
   "source": [
    "fm1['year']"
   ]
  },
  {
   "cell_type": "markdown",
   "id": "2ece44d8",
   "metadata": {},
   "source": [
    "A row can be retrieved by using a special ```loc``` attribute with the index. Here we are retrieving a row with index 3."
   ]
  },
  {
   "cell_type": "code",
   "execution_count": 71,
   "id": "ea08ae24",
   "metadata": {},
   "outputs": [
    {
     "data": {
      "text/plain": [
       "university                UKM\n",
       "year                     1970\n",
       "location      Bangi, Selangor\n",
       "Name: 3, dtype: object"
      ]
     },
     "execution_count": 71,
     "metadata": {},
     "output_type": "execute_result"
    }
   ],
   "source": [
    "fm1.loc[3]"
   ]
  },
  {
   "cell_type": "markdown",
   "id": "3f3514c5",
   "metadata": {},
   "source": [
    "We can add a row to a DataFrame as follows."
   ]
  },
  {
   "cell_type": "code",
   "execution_count": 72,
   "id": "1d216565",
   "metadata": {},
   "outputs": [],
   "source": [
    "fm1.loc[8] = {'year': 2000, 'university': 'UTeM', 'location': 'Durian Tunggal, Melaka'}"
   ]
  },
  {
   "cell_type": "markdown",
   "id": "9f6f4ae1",
   "metadata": {},
   "source": [
    "We can drop a row from a DataFrame by specifying the index."
   ]
  },
  {
   "cell_type": "code",
   "execution_count": 73,
   "id": "6b4c5d3e",
   "metadata": {},
   "outputs": [
    {
     "data": {
      "text/html": [
       "<div>\n",
       "<style scoped>\n",
       "    .dataframe tbody tr th:only-of-type {\n",
       "        vertical-align: middle;\n",
       "    }\n",
       "\n",
       "    .dataframe tbody tr th {\n",
       "        vertical-align: top;\n",
       "    }\n",
       "\n",
       "    .dataframe thead th {\n",
       "        text-align: right;\n",
       "    }\n",
       "</style>\n",
       "<table border=\"1\" class=\"dataframe\">\n",
       "  <thead>\n",
       "    <tr style=\"text-align: right;\">\n",
       "      <th></th>\n",
       "      <th>university</th>\n",
       "      <th>year</th>\n",
       "      <th>location</th>\n",
       "    </tr>\n",
       "  </thead>\n",
       "  <tbody>\n",
       "    <tr>\n",
       "      <th>0</th>\n",
       "      <td>USM</td>\n",
       "      <td>1969</td>\n",
       "      <td>Pulau Pinang</td>\n",
       "    </tr>\n",
       "    <tr>\n",
       "      <th>1</th>\n",
       "      <td>UM</td>\n",
       "      <td>1905</td>\n",
       "      <td>Kuala Lumpur</td>\n",
       "    </tr>\n",
       "    <tr>\n",
       "      <th>2</th>\n",
       "      <td>UPM</td>\n",
       "      <td>1931</td>\n",
       "      <td>Serdang, Selangor</td>\n",
       "    </tr>\n",
       "    <tr>\n",
       "      <th>3</th>\n",
       "      <td>UKM</td>\n",
       "      <td>1970</td>\n",
       "      <td>Bangi, Selangor</td>\n",
       "    </tr>\n",
       "    <tr>\n",
       "      <th>4</th>\n",
       "      <td>UTM</td>\n",
       "      <td>1972</td>\n",
       "      <td>Skudai, Johor</td>\n",
       "    </tr>\n",
       "    <tr>\n",
       "      <th>5</th>\n",
       "      <td>UiTM</td>\n",
       "      <td>1956</td>\n",
       "      <td>Shah Alam, Selangor</td>\n",
       "    </tr>\n",
       "    <tr>\n",
       "      <th>6</th>\n",
       "      <td>UniMAP</td>\n",
       "      <td>2001</td>\n",
       "      <td>Arau, Perlis</td>\n",
       "    </tr>\n",
       "    <tr>\n",
       "      <th>8</th>\n",
       "      <td>UTeM</td>\n",
       "      <td>2000</td>\n",
       "      <td>Durian Tunggal, Melaka</td>\n",
       "    </tr>\n",
       "  </tbody>\n",
       "</table>\n",
       "</div>"
      ],
      "text/plain": [
       "  university  year                location\n",
       "0        USM  1969            Pulau Pinang\n",
       "1         UM  1905            Kuala Lumpur\n",
       "2        UPM  1931       Serdang, Selangor\n",
       "3        UKM  1970         Bangi, Selangor\n",
       "4        UTM  1972           Skudai, Johor\n",
       "5       UiTM  1956     Shah Alam, Selangor\n",
       "6     UniMAP  2001            Arau, Perlis\n",
       "8       UTeM  2000  Durian Tunggal, Melaka"
      ]
     },
     "execution_count": 73,
     "metadata": {},
     "output_type": "execute_result"
    }
   ],
   "source": [
    "fm1.drop(7)"
   ]
  },
  {
   "cell_type": "markdown",
   "id": "daf57411",
   "metadata": {},
   "source": [
    "We can concatenate two series to become a DataFrame."
   ]
  },
  {
   "cell_type": "code",
   "execution_count": 74,
   "id": "4eb1578c",
   "metadata": {},
   "outputs": [],
   "source": [
    "s1 = pd.Series([82160, 4108], index = ['cost', 'duration'])\n",
    "s2 = pd.Series([602, 30.1], index = ['cost', 'duration'])"
   ]
  },
  {
   "cell_type": "code",
   "execution_count": 75,
   "id": "da8827e0",
   "metadata": {},
   "outputs": [
    {
     "data": {
      "text/plain": [
       "cost        82160\n",
       "duration     4108\n",
       "dtype: int64"
      ]
     },
     "execution_count": 75,
     "metadata": {},
     "output_type": "execute_result"
    }
   ],
   "source": [
    "s1"
   ]
  },
  {
   "cell_type": "code",
   "execution_count": 76,
   "id": "80deb29f",
   "metadata": {},
   "outputs": [
    {
     "data": {
      "text/plain": [
       "cost        602.0\n",
       "duration     30.1\n",
       "dtype: float64"
      ]
     },
     "execution_count": 76,
     "metadata": {},
     "output_type": "execute_result"
    }
   ],
   "source": [
    "s2"
   ]
  },
  {
   "cell_type": "code",
   "execution_count": 77,
   "id": "6b032fca",
   "metadata": {},
   "outputs": [],
   "source": [
    "fm2 = pd.concat([s1, s2], axis=1)"
   ]
  },
  {
   "cell_type": "markdown",
   "id": "c60bf88d",
   "metadata": {},
   "source": [
    "#### File input and output using Pandas\n",
    "We can save and load data to and from disk in text format. Here, we save the content of fm1 to a csv file using ```to_csv``` method. \n",
    "The first argument is the file name. The second argument is to specify the separator to separate the values. The third argument to write out the column names. The fourth argument is to specify the index."
   ]
  },
  {
   "cell_type": "code",
   "execution_count": 78,
   "id": "f3f6b827",
   "metadata": {},
   "outputs": [],
   "source": [
    "fm1.to_csv('uni_in_Malaysia.csv', sep=';', header=True, index=False)"
   ]
  },
  {
   "cell_type": "markdown",
   "id": "8955a00d",
   "metadata": {},
   "source": [
    "To load a csv file, we use ```read_csv``` method. Here, we are reading a file named diabetes.csv."
   ]
  },
  {
   "cell_type": "code",
   "execution_count": 79,
   "id": "1eda91de",
   "metadata": {},
   "outputs": [],
   "source": [
    "fm2 = pd.read_csv('diabetes.csv', sep=',')"
   ]
  },
  {
   "cell_type": "code",
   "execution_count": 80,
   "id": "f59f7bf8",
   "metadata": {},
   "outputs": [
    {
     "data": {
      "text/html": [
       "<div>\n",
       "<style scoped>\n",
       "    .dataframe tbody tr th:only-of-type {\n",
       "        vertical-align: middle;\n",
       "    }\n",
       "\n",
       "    .dataframe tbody tr th {\n",
       "        vertical-align: top;\n",
       "    }\n",
       "\n",
       "    .dataframe thead th {\n",
       "        text-align: right;\n",
       "    }\n",
       "</style>\n",
       "<table border=\"1\" class=\"dataframe\">\n",
       "  <thead>\n",
       "    <tr style=\"text-align: right;\">\n",
       "      <th></th>\n",
       "      <th>Pregnancies</th>\n",
       "      <th>Glucose</th>\n",
       "      <th>BloodPressure</th>\n",
       "      <th>SkinThickness</th>\n",
       "      <th>Insulin</th>\n",
       "      <th>BMI</th>\n",
       "      <th>DiabetesPedigreeFunction</th>\n",
       "      <th>Age</th>\n",
       "      <th>Outcome</th>\n",
       "    </tr>\n",
       "  </thead>\n",
       "  <tbody>\n",
       "    <tr>\n",
       "      <th>0</th>\n",
       "      <td>6</td>\n",
       "      <td>148</td>\n",
       "      <td>72</td>\n",
       "      <td>35</td>\n",
       "      <td>0</td>\n",
       "      <td>33.6</td>\n",
       "      <td>0.627</td>\n",
       "      <td>50</td>\n",
       "      <td>1</td>\n",
       "    </tr>\n",
       "    <tr>\n",
       "      <th>1</th>\n",
       "      <td>1</td>\n",
       "      <td>85</td>\n",
       "      <td>66</td>\n",
       "      <td>29</td>\n",
       "      <td>0</td>\n",
       "      <td>26.6</td>\n",
       "      <td>0.351</td>\n",
       "      <td>31</td>\n",
       "      <td>0</td>\n",
       "    </tr>\n",
       "    <tr>\n",
       "      <th>2</th>\n",
       "      <td>8</td>\n",
       "      <td>183</td>\n",
       "      <td>64</td>\n",
       "      <td>0</td>\n",
       "      <td>0</td>\n",
       "      <td>23.3</td>\n",
       "      <td>0.672</td>\n",
       "      <td>32</td>\n",
       "      <td>1</td>\n",
       "    </tr>\n",
       "    <tr>\n",
       "      <th>3</th>\n",
       "      <td>1</td>\n",
       "      <td>89</td>\n",
       "      <td>66</td>\n",
       "      <td>23</td>\n",
       "      <td>94</td>\n",
       "      <td>28.1</td>\n",
       "      <td>0.167</td>\n",
       "      <td>21</td>\n",
       "      <td>0</td>\n",
       "    </tr>\n",
       "    <tr>\n",
       "      <th>4</th>\n",
       "      <td>0</td>\n",
       "      <td>137</td>\n",
       "      <td>40</td>\n",
       "      <td>35</td>\n",
       "      <td>168</td>\n",
       "      <td>43.1</td>\n",
       "      <td>2.288</td>\n",
       "      <td>33</td>\n",
       "      <td>1</td>\n",
       "    </tr>\n",
       "  </tbody>\n",
       "</table>\n",
       "</div>"
      ],
      "text/plain": [
       "   Pregnancies  Glucose  BloodPressure  SkinThickness  Insulin   BMI  \\\n",
       "0            6      148             72             35        0  33.6   \n",
       "1            1       85             66             29        0  26.6   \n",
       "2            8      183             64              0        0  23.3   \n",
       "3            1       89             66             23       94  28.1   \n",
       "4            0      137             40             35      168  43.1   \n",
       "\n",
       "   DiabetesPedigreeFunction  Age  Outcome  \n",
       "0                     0.627   50        1  \n",
       "1                     0.351   31        0  \n",
       "2                     0.672   32        1  \n",
       "3                     0.167   21        0  \n",
       "4                     2.288   33        1  "
      ]
     },
     "execution_count": 80,
     "metadata": {},
     "output_type": "execute_result"
    }
   ],
   "source": [
    "fm2.head()"
   ]
  },
  {
   "cell_type": "markdown",
   "id": "1f5123a9",
   "metadata": {},
   "source": [
    "#### Summarizing and Computing Descriptive Statistics\n",
    "We can calculate a specific statistical measure such as mean and variance. axis=1 calculate mean across the rows."
   ]
  },
  {
   "cell_type": "code",
   "execution_count": 81,
   "id": "0c86ddf9",
   "metadata": {},
   "outputs": [
    {
     "data": {
      "text/plain": [
       "Pregnancies                   3.845052\n",
       "Glucose                     120.894531\n",
       "BloodPressure                69.105469\n",
       "SkinThickness                20.536458\n",
       "Insulin                      79.799479\n",
       "BMI                          31.992578\n",
       "DiabetesPedigreeFunction      0.471876\n",
       "Age                          33.240885\n",
       "Outcome                       0.348958\n",
       "dtype: float64"
      ]
     },
     "execution_count": 81,
     "metadata": {},
     "output_type": "execute_result"
    }
   ],
   "source": [
    "fm2.mean(axis=0)"
   ]
  },
  {
   "cell_type": "code",
   "execution_count": 82,
   "id": "d1fe2940",
   "metadata": {},
   "outputs": [
    {
     "data": {
      "text/plain": [
       "Pregnancies                    11.354056\n",
       "Glucose                      1022.248314\n",
       "BloodPressure                 374.647271\n",
       "SkinThickness                 254.473245\n",
       "Insulin                     13281.180078\n",
       "BMI                            62.159984\n",
       "DiabetesPedigreeFunction        0.109779\n",
       "Age                           138.303046\n",
       "Outcome                         0.227483\n",
       "dtype: float64"
      ]
     },
     "execution_count": 82,
     "metadata": {},
     "output_type": "execute_result"
    }
   ],
   "source": [
    "fm2.var(axis=0)"
   ]
  },
  {
   "cell_type": "markdown",
   "id": "342db250",
   "metadata": {},
   "source": [
    "```pd.describe``` method produces multiple summary statistics of the DataFrame."
   ]
  },
  {
   "cell_type": "code",
   "execution_count": 83,
   "id": "510ffca7",
   "metadata": {},
   "outputs": [
    {
     "data": {
      "text/html": [
       "<div>\n",
       "<style scoped>\n",
       "    .dataframe tbody tr th:only-of-type {\n",
       "        vertical-align: middle;\n",
       "    }\n",
       "\n",
       "    .dataframe tbody tr th {\n",
       "        vertical-align: top;\n",
       "    }\n",
       "\n",
       "    .dataframe thead th {\n",
       "        text-align: right;\n",
       "    }\n",
       "</style>\n",
       "<table border=\"1\" class=\"dataframe\">\n",
       "  <thead>\n",
       "    <tr style=\"text-align: right;\">\n",
       "      <th></th>\n",
       "      <th>Pregnancies</th>\n",
       "      <th>Glucose</th>\n",
       "      <th>BloodPressure</th>\n",
       "      <th>SkinThickness</th>\n",
       "      <th>Insulin</th>\n",
       "      <th>BMI</th>\n",
       "      <th>DiabetesPedigreeFunction</th>\n",
       "      <th>Age</th>\n",
       "      <th>Outcome</th>\n",
       "    </tr>\n",
       "  </thead>\n",
       "  <tbody>\n",
       "    <tr>\n",
       "      <th>count</th>\n",
       "      <td>768.000000</td>\n",
       "      <td>768.000000</td>\n",
       "      <td>768.000000</td>\n",
       "      <td>768.000000</td>\n",
       "      <td>768.000000</td>\n",
       "      <td>768.000000</td>\n",
       "      <td>768.000000</td>\n",
       "      <td>768.000000</td>\n",
       "      <td>768.000000</td>\n",
       "    </tr>\n",
       "    <tr>\n",
       "      <th>mean</th>\n",
       "      <td>3.845052</td>\n",
       "      <td>120.894531</td>\n",
       "      <td>69.105469</td>\n",
       "      <td>20.536458</td>\n",
       "      <td>79.799479</td>\n",
       "      <td>31.992578</td>\n",
       "      <td>0.471876</td>\n",
       "      <td>33.240885</td>\n",
       "      <td>0.348958</td>\n",
       "    </tr>\n",
       "    <tr>\n",
       "      <th>std</th>\n",
       "      <td>3.369578</td>\n",
       "      <td>31.972618</td>\n",
       "      <td>19.355807</td>\n",
       "      <td>15.952218</td>\n",
       "      <td>115.244002</td>\n",
       "      <td>7.884160</td>\n",
       "      <td>0.331329</td>\n",
       "      <td>11.760232</td>\n",
       "      <td>0.476951</td>\n",
       "    </tr>\n",
       "    <tr>\n",
       "      <th>min</th>\n",
       "      <td>0.000000</td>\n",
       "      <td>0.000000</td>\n",
       "      <td>0.000000</td>\n",
       "      <td>0.000000</td>\n",
       "      <td>0.000000</td>\n",
       "      <td>0.000000</td>\n",
       "      <td>0.078000</td>\n",
       "      <td>21.000000</td>\n",
       "      <td>0.000000</td>\n",
       "    </tr>\n",
       "    <tr>\n",
       "      <th>25%</th>\n",
       "      <td>1.000000</td>\n",
       "      <td>99.000000</td>\n",
       "      <td>62.000000</td>\n",
       "      <td>0.000000</td>\n",
       "      <td>0.000000</td>\n",
       "      <td>27.300000</td>\n",
       "      <td>0.243750</td>\n",
       "      <td>24.000000</td>\n",
       "      <td>0.000000</td>\n",
       "    </tr>\n",
       "    <tr>\n",
       "      <th>50%</th>\n",
       "      <td>3.000000</td>\n",
       "      <td>117.000000</td>\n",
       "      <td>72.000000</td>\n",
       "      <td>23.000000</td>\n",
       "      <td>30.500000</td>\n",
       "      <td>32.000000</td>\n",
       "      <td>0.372500</td>\n",
       "      <td>29.000000</td>\n",
       "      <td>0.000000</td>\n",
       "    </tr>\n",
       "    <tr>\n",
       "      <th>75%</th>\n",
       "      <td>6.000000</td>\n",
       "      <td>140.250000</td>\n",
       "      <td>80.000000</td>\n",
       "      <td>32.000000</td>\n",
       "      <td>127.250000</td>\n",
       "      <td>36.600000</td>\n",
       "      <td>0.626250</td>\n",
       "      <td>41.000000</td>\n",
       "      <td>1.000000</td>\n",
       "    </tr>\n",
       "    <tr>\n",
       "      <th>max</th>\n",
       "      <td>17.000000</td>\n",
       "      <td>199.000000</td>\n",
       "      <td>122.000000</td>\n",
       "      <td>99.000000</td>\n",
       "      <td>846.000000</td>\n",
       "      <td>67.100000</td>\n",
       "      <td>2.420000</td>\n",
       "      <td>81.000000</td>\n",
       "      <td>1.000000</td>\n",
       "    </tr>\n",
       "  </tbody>\n",
       "</table>\n",
       "</div>"
      ],
      "text/plain": [
       "       Pregnancies     Glucose  BloodPressure  SkinThickness     Insulin  \\\n",
       "count   768.000000  768.000000     768.000000     768.000000  768.000000   \n",
       "mean      3.845052  120.894531      69.105469      20.536458   79.799479   \n",
       "std       3.369578   31.972618      19.355807      15.952218  115.244002   \n",
       "min       0.000000    0.000000       0.000000       0.000000    0.000000   \n",
       "25%       1.000000   99.000000      62.000000       0.000000    0.000000   \n",
       "50%       3.000000  117.000000      72.000000      23.000000   30.500000   \n",
       "75%       6.000000  140.250000      80.000000      32.000000  127.250000   \n",
       "max      17.000000  199.000000     122.000000      99.000000  846.000000   \n",
       "\n",
       "              BMI  DiabetesPedigreeFunction         Age     Outcome  \n",
       "count  768.000000                768.000000  768.000000  768.000000  \n",
       "mean    31.992578                  0.471876   33.240885    0.348958  \n",
       "std      7.884160                  0.331329   11.760232    0.476951  \n",
       "min      0.000000                  0.078000   21.000000    0.000000  \n",
       "25%     27.300000                  0.243750   24.000000    0.000000  \n",
       "50%     32.000000                  0.372500   29.000000    0.000000  \n",
       "75%     36.600000                  0.626250   41.000000    1.000000  \n",
       "max     67.100000                  2.420000   81.000000    1.000000  "
      ]
     },
     "execution_count": 83,
     "metadata": {},
     "output_type": "execute_result"
    }
   ],
   "source": [
    "fm2.describe()"
   ]
  },
  {
   "cell_type": "markdown",
   "id": "2250e0dd",
   "metadata": {},
   "source": [
    "We compute the correlation between the attributes (columns) using ```pd.corr``` method."
   ]
  },
  {
   "cell_type": "code",
   "execution_count": 84,
   "id": "74d7828f",
   "metadata": {},
   "outputs": [],
   "source": [
    "corr_matrix = fm2.corr()"
   ]
  },
  {
   "cell_type": "code",
   "execution_count": 85,
   "id": "bfc8fb8c",
   "metadata": {},
   "outputs": [
    {
     "data": {
      "text/html": [
       "<div>\n",
       "<style scoped>\n",
       "    .dataframe tbody tr th:only-of-type {\n",
       "        vertical-align: middle;\n",
       "    }\n",
       "\n",
       "    .dataframe tbody tr th {\n",
       "        vertical-align: top;\n",
       "    }\n",
       "\n",
       "    .dataframe thead th {\n",
       "        text-align: right;\n",
       "    }\n",
       "</style>\n",
       "<table border=\"1\" class=\"dataframe\">\n",
       "  <thead>\n",
       "    <tr style=\"text-align: right;\">\n",
       "      <th></th>\n",
       "      <th>Pregnancies</th>\n",
       "      <th>Glucose</th>\n",
       "      <th>BloodPressure</th>\n",
       "      <th>SkinThickness</th>\n",
       "      <th>Insulin</th>\n",
       "      <th>BMI</th>\n",
       "      <th>DiabetesPedigreeFunction</th>\n",
       "      <th>Age</th>\n",
       "      <th>Outcome</th>\n",
       "    </tr>\n",
       "  </thead>\n",
       "  <tbody>\n",
       "    <tr>\n",
       "      <th>Pregnancies</th>\n",
       "      <td>1.000000</td>\n",
       "      <td>0.129459</td>\n",
       "      <td>0.141282</td>\n",
       "      <td>-0.081672</td>\n",
       "      <td>-0.073535</td>\n",
       "      <td>0.017683</td>\n",
       "      <td>-0.033523</td>\n",
       "      <td>0.544341</td>\n",
       "      <td>0.221898</td>\n",
       "    </tr>\n",
       "    <tr>\n",
       "      <th>Glucose</th>\n",
       "      <td>0.129459</td>\n",
       "      <td>1.000000</td>\n",
       "      <td>0.152590</td>\n",
       "      <td>0.057328</td>\n",
       "      <td>0.331357</td>\n",
       "      <td>0.221071</td>\n",
       "      <td>0.137337</td>\n",
       "      <td>0.263514</td>\n",
       "      <td>0.466581</td>\n",
       "    </tr>\n",
       "    <tr>\n",
       "      <th>BloodPressure</th>\n",
       "      <td>0.141282</td>\n",
       "      <td>0.152590</td>\n",
       "      <td>1.000000</td>\n",
       "      <td>0.207371</td>\n",
       "      <td>0.088933</td>\n",
       "      <td>0.281805</td>\n",
       "      <td>0.041265</td>\n",
       "      <td>0.239528</td>\n",
       "      <td>0.065068</td>\n",
       "    </tr>\n",
       "    <tr>\n",
       "      <th>SkinThickness</th>\n",
       "      <td>-0.081672</td>\n",
       "      <td>0.057328</td>\n",
       "      <td>0.207371</td>\n",
       "      <td>1.000000</td>\n",
       "      <td>0.436783</td>\n",
       "      <td>0.392573</td>\n",
       "      <td>0.183928</td>\n",
       "      <td>-0.113970</td>\n",
       "      <td>0.074752</td>\n",
       "    </tr>\n",
       "    <tr>\n",
       "      <th>Insulin</th>\n",
       "      <td>-0.073535</td>\n",
       "      <td>0.331357</td>\n",
       "      <td>0.088933</td>\n",
       "      <td>0.436783</td>\n",
       "      <td>1.000000</td>\n",
       "      <td>0.197859</td>\n",
       "      <td>0.185071</td>\n",
       "      <td>-0.042163</td>\n",
       "      <td>0.130548</td>\n",
       "    </tr>\n",
       "    <tr>\n",
       "      <th>BMI</th>\n",
       "      <td>0.017683</td>\n",
       "      <td>0.221071</td>\n",
       "      <td>0.281805</td>\n",
       "      <td>0.392573</td>\n",
       "      <td>0.197859</td>\n",
       "      <td>1.000000</td>\n",
       "      <td>0.140647</td>\n",
       "      <td>0.036242</td>\n",
       "      <td>0.292695</td>\n",
       "    </tr>\n",
       "    <tr>\n",
       "      <th>DiabetesPedigreeFunction</th>\n",
       "      <td>-0.033523</td>\n",
       "      <td>0.137337</td>\n",
       "      <td>0.041265</td>\n",
       "      <td>0.183928</td>\n",
       "      <td>0.185071</td>\n",
       "      <td>0.140647</td>\n",
       "      <td>1.000000</td>\n",
       "      <td>0.033561</td>\n",
       "      <td>0.173844</td>\n",
       "    </tr>\n",
       "    <tr>\n",
       "      <th>Age</th>\n",
       "      <td>0.544341</td>\n",
       "      <td>0.263514</td>\n",
       "      <td>0.239528</td>\n",
       "      <td>-0.113970</td>\n",
       "      <td>-0.042163</td>\n",
       "      <td>0.036242</td>\n",
       "      <td>0.033561</td>\n",
       "      <td>1.000000</td>\n",
       "      <td>0.238356</td>\n",
       "    </tr>\n",
       "    <tr>\n",
       "      <th>Outcome</th>\n",
       "      <td>0.221898</td>\n",
       "      <td>0.466581</td>\n",
       "      <td>0.065068</td>\n",
       "      <td>0.074752</td>\n",
       "      <td>0.130548</td>\n",
       "      <td>0.292695</td>\n",
       "      <td>0.173844</td>\n",
       "      <td>0.238356</td>\n",
       "      <td>1.000000</td>\n",
       "    </tr>\n",
       "  </tbody>\n",
       "</table>\n",
       "</div>"
      ],
      "text/plain": [
       "                          Pregnancies   Glucose  BloodPressure  SkinThickness  \\\n",
       "Pregnancies                  1.000000  0.129459       0.141282      -0.081672   \n",
       "Glucose                      0.129459  1.000000       0.152590       0.057328   \n",
       "BloodPressure                0.141282  0.152590       1.000000       0.207371   \n",
       "SkinThickness               -0.081672  0.057328       0.207371       1.000000   \n",
       "Insulin                     -0.073535  0.331357       0.088933       0.436783   \n",
       "BMI                          0.017683  0.221071       0.281805       0.392573   \n",
       "DiabetesPedigreeFunction    -0.033523  0.137337       0.041265       0.183928   \n",
       "Age                          0.544341  0.263514       0.239528      -0.113970   \n",
       "Outcome                      0.221898  0.466581       0.065068       0.074752   \n",
       "\n",
       "                           Insulin       BMI  DiabetesPedigreeFunction  \\\n",
       "Pregnancies              -0.073535  0.017683                 -0.033523   \n",
       "Glucose                   0.331357  0.221071                  0.137337   \n",
       "BloodPressure             0.088933  0.281805                  0.041265   \n",
       "SkinThickness             0.436783  0.392573                  0.183928   \n",
       "Insulin                   1.000000  0.197859                  0.185071   \n",
       "BMI                       0.197859  1.000000                  0.140647   \n",
       "DiabetesPedigreeFunction  0.185071  0.140647                  1.000000   \n",
       "Age                      -0.042163  0.036242                  0.033561   \n",
       "Outcome                   0.130548  0.292695                  0.173844   \n",
       "\n",
       "                               Age   Outcome  \n",
       "Pregnancies               0.544341  0.221898  \n",
       "Glucose                   0.263514  0.466581  \n",
       "BloodPressure             0.239528  0.065068  \n",
       "SkinThickness            -0.113970  0.074752  \n",
       "Insulin                  -0.042163  0.130548  \n",
       "BMI                       0.036242  0.292695  \n",
       "DiabetesPedigreeFunction  0.033561  0.173844  \n",
       "Age                       1.000000  0.238356  \n",
       "Outcome                   0.238356  1.000000  "
      ]
     },
     "execution_count": 85,
     "metadata": {},
     "output_type": "execute_result"
    }
   ],
   "source": [
    "corr_matrix"
   ]
  },
  {
   "cell_type": "markdown",
   "id": "36ec0cd3",
   "metadata": {},
   "source": [
    "Calculating the covariance."
   ]
  },
  {
   "cell_type": "code",
   "execution_count": 86,
   "id": "f688388b",
   "metadata": {},
   "outputs": [],
   "source": [
    "cov_matrix = fm2.cov()"
   ]
  },
  {
   "cell_type": "code",
   "execution_count": 87,
   "id": "843ea130",
   "metadata": {},
   "outputs": [
    {
     "data": {
      "text/html": [
       "<div>\n",
       "<style scoped>\n",
       "    .dataframe tbody tr th:only-of-type {\n",
       "        vertical-align: middle;\n",
       "    }\n",
       "\n",
       "    .dataframe tbody tr th {\n",
       "        vertical-align: top;\n",
       "    }\n",
       "\n",
       "    .dataframe thead th {\n",
       "        text-align: right;\n",
       "    }\n",
       "</style>\n",
       "<table border=\"1\" class=\"dataframe\">\n",
       "  <thead>\n",
       "    <tr style=\"text-align: right;\">\n",
       "      <th></th>\n",
       "      <th>Pregnancies</th>\n",
       "      <th>Glucose</th>\n",
       "      <th>BloodPressure</th>\n",
       "      <th>SkinThickness</th>\n",
       "      <th>Insulin</th>\n",
       "      <th>BMI</th>\n",
       "      <th>DiabetesPedigreeFunction</th>\n",
       "      <th>Age</th>\n",
       "      <th>Outcome</th>\n",
       "    </tr>\n",
       "  </thead>\n",
       "  <tbody>\n",
       "    <tr>\n",
       "      <th>Pregnancies</th>\n",
       "      <td>11.354056</td>\n",
       "      <td>13.947131</td>\n",
       "      <td>9.214538</td>\n",
       "      <td>-4.390041</td>\n",
       "      <td>-28.555231</td>\n",
       "      <td>0.469774</td>\n",
       "      <td>-0.037426</td>\n",
       "      <td>21.570620</td>\n",
       "      <td>0.356618</td>\n",
       "    </tr>\n",
       "    <tr>\n",
       "      <th>Glucose</th>\n",
       "      <td>13.947131</td>\n",
       "      <td>1022.248314</td>\n",
       "      <td>94.430956</td>\n",
       "      <td>29.239183</td>\n",
       "      <td>1220.935799</td>\n",
       "      <td>55.726987</td>\n",
       "      <td>1.454875</td>\n",
       "      <td>99.082805</td>\n",
       "      <td>7.115079</td>\n",
       "    </tr>\n",
       "    <tr>\n",
       "      <th>BloodPressure</th>\n",
       "      <td>9.214538</td>\n",
       "      <td>94.430956</td>\n",
       "      <td>374.647271</td>\n",
       "      <td>64.029396</td>\n",
       "      <td>198.378412</td>\n",
       "      <td>43.004695</td>\n",
       "      <td>0.264638</td>\n",
       "      <td>54.523453</td>\n",
       "      <td>0.600697</td>\n",
       "    </tr>\n",
       "    <tr>\n",
       "      <th>SkinThickness</th>\n",
       "      <td>-4.390041</td>\n",
       "      <td>29.239183</td>\n",
       "      <td>64.029396</td>\n",
       "      <td>254.473245</td>\n",
       "      <td>802.979941</td>\n",
       "      <td>49.373869</td>\n",
       "      <td>0.972136</td>\n",
       "      <td>-21.381023</td>\n",
       "      <td>0.568747</td>\n",
       "    </tr>\n",
       "    <tr>\n",
       "      <th>Insulin</th>\n",
       "      <td>-28.555231</td>\n",
       "      <td>1220.935799</td>\n",
       "      <td>198.378412</td>\n",
       "      <td>802.979941</td>\n",
       "      <td>13281.180078</td>\n",
       "      <td>179.775172</td>\n",
       "      <td>7.066681</td>\n",
       "      <td>-57.143290</td>\n",
       "      <td>7.175671</td>\n",
       "    </tr>\n",
       "    <tr>\n",
       "      <th>BMI</th>\n",
       "      <td>0.469774</td>\n",
       "      <td>55.726987</td>\n",
       "      <td>43.004695</td>\n",
       "      <td>49.373869</td>\n",
       "      <td>179.775172</td>\n",
       "      <td>62.159984</td>\n",
       "      <td>0.367405</td>\n",
       "      <td>3.360330</td>\n",
       "      <td>1.100638</td>\n",
       "    </tr>\n",
       "    <tr>\n",
       "      <th>DiabetesPedigreeFunction</th>\n",
       "      <td>-0.037426</td>\n",
       "      <td>1.454875</td>\n",
       "      <td>0.264638</td>\n",
       "      <td>0.972136</td>\n",
       "      <td>7.066681</td>\n",
       "      <td>0.367405</td>\n",
       "      <td>0.109779</td>\n",
       "      <td>0.130772</td>\n",
       "      <td>0.027472</td>\n",
       "    </tr>\n",
       "    <tr>\n",
       "      <th>Age</th>\n",
       "      <td>21.570620</td>\n",
       "      <td>99.082805</td>\n",
       "      <td>54.523453</td>\n",
       "      <td>-21.381023</td>\n",
       "      <td>-57.143290</td>\n",
       "      <td>3.360330</td>\n",
       "      <td>0.130772</td>\n",
       "      <td>138.303046</td>\n",
       "      <td>1.336953</td>\n",
       "    </tr>\n",
       "    <tr>\n",
       "      <th>Outcome</th>\n",
       "      <td>0.356618</td>\n",
       "      <td>7.115079</td>\n",
       "      <td>0.600697</td>\n",
       "      <td>0.568747</td>\n",
       "      <td>7.175671</td>\n",
       "      <td>1.100638</td>\n",
       "      <td>0.027472</td>\n",
       "      <td>1.336953</td>\n",
       "      <td>0.227483</td>\n",
       "    </tr>\n",
       "  </tbody>\n",
       "</table>\n",
       "</div>"
      ],
      "text/plain": [
       "                          Pregnancies      Glucose  BloodPressure  \\\n",
       "Pregnancies                 11.354056    13.947131       9.214538   \n",
       "Glucose                     13.947131  1022.248314      94.430956   \n",
       "BloodPressure                9.214538    94.430956     374.647271   \n",
       "SkinThickness               -4.390041    29.239183      64.029396   \n",
       "Insulin                    -28.555231  1220.935799     198.378412   \n",
       "BMI                          0.469774    55.726987      43.004695   \n",
       "DiabetesPedigreeFunction    -0.037426     1.454875       0.264638   \n",
       "Age                         21.570620    99.082805      54.523453   \n",
       "Outcome                      0.356618     7.115079       0.600697   \n",
       "\n",
       "                          SkinThickness       Insulin         BMI  \\\n",
       "Pregnancies                   -4.390041    -28.555231    0.469774   \n",
       "Glucose                       29.239183   1220.935799   55.726987   \n",
       "BloodPressure                 64.029396    198.378412   43.004695   \n",
       "SkinThickness                254.473245    802.979941   49.373869   \n",
       "Insulin                      802.979941  13281.180078  179.775172   \n",
       "BMI                           49.373869    179.775172   62.159984   \n",
       "DiabetesPedigreeFunction       0.972136      7.066681    0.367405   \n",
       "Age                          -21.381023    -57.143290    3.360330   \n",
       "Outcome                        0.568747      7.175671    1.100638   \n",
       "\n",
       "                          DiabetesPedigreeFunction         Age   Outcome  \n",
       "Pregnancies                              -0.037426   21.570620  0.356618  \n",
       "Glucose                                   1.454875   99.082805  7.115079  \n",
       "BloodPressure                             0.264638   54.523453  0.600697  \n",
       "SkinThickness                             0.972136  -21.381023  0.568747  \n",
       "Insulin                                   7.066681  -57.143290  7.175671  \n",
       "BMI                                       0.367405    3.360330  1.100638  \n",
       "DiabetesPedigreeFunction                  0.109779    0.130772  0.027472  \n",
       "Age                                       0.130772  138.303046  1.336953  \n",
       "Outcome                                   0.027472    1.336953  0.227483  "
      ]
     },
     "execution_count": 87,
     "metadata": {},
     "output_type": "execute_result"
    }
   ],
   "source": [
    "cov_matrix"
   ]
  }
 ],
 "metadata": {
  "kernelspec": {
   "display_name": "Python 3 (ipykernel)",
   "language": "python",
   "name": "python3"
  },
  "language_info": {
   "codemirror_mode": {
    "name": "ipython",
    "version": 3
   },
   "file_extension": ".py",
   "mimetype": "text/x-python",
   "name": "python",
   "nbconvert_exporter": "python",
   "pygments_lexer": "ipython3",
   "version": "3.9.7"
  }
 },
 "nbformat": 4,
 "nbformat_minor": 5
}
