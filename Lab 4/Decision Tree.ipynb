{
 "cells": [
  {
   "cell_type": "markdown",
   "id": "5d12ac9f",
   "metadata": {},
   "source": [
    "# 1. Decision Tree"
   ]
  },
  {
   "cell_type": "markdown",
   "id": "8727947c",
   "metadata": {},
   "source": [
    "In this lab we will be implementing Decision Tree using Scikit-Learn."
   ]
  },
  {
   "cell_type": "markdown",
   "id": "59878b75",
   "metadata": {},
   "source": [
    "### 1.1 Input"
   ]
  },
  {
   "cell_type": "markdown",
   "id": "996d7a79",
   "metadata": {},
   "source": [
    "Importing standard modules and the dataset."
   ]
  },
  {
   "cell_type": "code",
   "execution_count": 1,
   "id": "0ed1628a",
   "metadata": {},
   "outputs": [],
   "source": [
    "# Import the standard modules to be used in this lab\n",
    "import pandas as pd\n",
    "import numpy as np\n",
    "import warnings\n",
    "warnings.filterwarnings('ignore')"
   ]
  },
  {
   "cell_type": "markdown",
   "id": "3d08b456",
   "metadata": {},
   "source": [
    "The dataset is available in sklearn. So we have to import the dataset into IPython and store it in a variable called cancer."
   ]
  },
  {
   "cell_type": "code",
   "execution_count": 2,
   "id": "73697d91",
   "metadata": {},
   "outputs": [],
   "source": [
    "from sklearn.datasets import load_breast_cancer\n",
    "cancer = load_breast_cancer()\n",
    "X = pd.DataFrame(cancer.data)\n",
    "y = cancer.target"
   ]
  },
  {
   "cell_type": "markdown",
   "id": "46cee14e",
   "metadata": {},
   "source": [
    "We split the dataset into training and test sets. Then we further split the training set to create a validation set."
   ]
  },
  {
   "cell_type": "code",
   "execution_count": 3,
   "id": "322d31ab",
   "metadata": {},
   "outputs": [
    {
     "name": "stdout",
     "output_type": "stream",
     "text": [
      "(364, 30)\n",
      "(91, 30)\n",
      "(114, 30)\n"
     ]
    }
   ],
   "source": [
    "from sklearn.model_selection import train_test_split\n",
    "seed_num = 0\n",
    "X_train, X_test, y_train, y_test = train_test_split(X, y, test_size=0.2, random_state=seed_num)\n",
    "X_train, X_val, y_train, y_val = train_test_split(X_train, y_train, test_size=0.2, random_state=seed_num)\n",
    "print(X_train.shape)\n",
    "print(X_val.shape)\n",
    "print(X_test.shape)"
   ]
  },
  {
   "cell_type": "markdown",
   "id": "3d357d68",
   "metadata": {},
   "source": [
    "### 1.2 Decision Tree"
   ]
  },
  {
   "cell_type": "markdown",
   "id": "93a0ef83",
   "metadata": {},
   "source": [
    "Decision tree classifier can be built by importing ```DecisionTreeClassifier``` module from ```sklearn.tree```. These are sme of the parameters that can be set:\n",
    "- ```criterion```: the criteria to measure the quality of the split i.e. 'gini' (default) or 'entropy'.\n",
    "- ```max_depth```: the maximum depth of the tree. By default the value is None which means the tree will be built until all leaves contain less than ```min_sample_split``` samples. \n",
    "- ```min_samples_split```: the minimum number of samples required to split the node."
   ]
  },
  {
   "cell_type": "code",
   "execution_count": 4,
   "id": "73340947",
   "metadata": {},
   "outputs": [
    {
     "data": {
      "text/plain": [
       "DecisionTreeClassifier(random_state=0)"
      ]
     },
     "execution_count": 4,
     "metadata": {},
     "output_type": "execute_result"
    }
   ],
   "source": [
    "from sklearn.tree import DecisionTreeClassifier\n",
    "model_dt = DecisionTreeClassifier(criterion='gini', random_state=seed_num)\n",
    "model_dt.fit(X_train, y_train)"
   ]
  },
  {
   "cell_type": "markdown",
   "id": "9d1ddf92",
   "metadata": {},
   "source": [
    "Let's evaluate the performance of the model by predicting the test set."
   ]
  },
  {
   "cell_type": "code",
   "execution_count": 5,
   "id": "94161b53",
   "metadata": {},
   "outputs": [
    {
     "name": "stdout",
     "output_type": "stream",
     "text": [
      "0.9473684210526315\n",
      "[[45  2]\n",
      " [ 4 63]]\n",
      "              precision    recall  f1-score   support\n",
      "\n",
      "           0       0.92      0.96      0.94        47\n",
      "           1       0.97      0.94      0.95        67\n",
      "\n",
      "    accuracy                           0.95       114\n",
      "   macro avg       0.94      0.95      0.95       114\n",
      "weighted avg       0.95      0.95      0.95       114\n",
      "\n"
     ]
    }
   ],
   "source": [
    "from sklearn.metrics import accuracy_score, confusion_matrix, classification_report\n",
    "y_pred = model_dt.predict(X_test)\n",
    "print(accuracy_score(y_test, y_pred))\n",
    "print(confusion_matrix(y_test, y_pred))\n",
    "print(classification_report(y_test, y_pred))"
   ]
  },
  {
   "cell_type": "markdown",
   "id": "a6542d5a",
   "metadata": {},
   "source": [
    "Let's set the parameters to find the optimal model. Let's build four models with different ```max_depth``` values. We also increase the ```min_samples_split``` to 10 (it can be a different value)."
   ]
  },
  {
   "cell_type": "code",
   "execution_count": 6,
   "id": "09321f51",
   "metadata": {},
   "outputs": [],
   "source": [
    "dt_models = []\n",
    "depths = np.arange(3,8,1)\n",
    "for d in depths:\n",
    "    model = DecisionTreeClassifier(criterion='gini', min_samples_split=15, max_depth=d, random_state=seed_num)\n",
    "    model.fit(X_train, y_train)\n",
    "    dt_models.append(model)"
   ]
  },
  {
   "cell_type": "markdown",
   "id": "2ba98327",
   "metadata": {},
   "source": [
    "We use the validation set to determine the best ```max_depth``` parameter."
   ]
  },
  {
   "cell_type": "code",
   "execution_count": 7,
   "id": "7363213f",
   "metadata": {},
   "outputs": [
    {
     "name": "stdout",
     "output_type": "stream",
     "text": [
      "Decision Tree classifier with max_depth=3 achieves a mean accuracy of 0.8791208791208791\n",
      "Decision Tree classifier with max_depth=4 achieves a mean accuracy of 0.8791208791208791\n",
      "Decision Tree classifier with max_depth=5 achieves a mean accuracy of 0.8791208791208791\n",
      "Decision Tree classifier with max_depth=6 achieves a mean accuracy of 0.8791208791208791\n",
      "Decision Tree classifier with max_depth=7 achieves a mean accuracy of 0.8791208791208791\n"
     ]
    }
   ],
   "source": [
    "best_acc = 0\n",
    "model_best = None\n",
    "for m, d in zip(dt_models, depths):\n",
    "    acc = m.score(X_val, y_val)\n",
    "    print(f'Decision Tree classifier with max_depth={d} achieves a mean accuracy of {acc}')\n",
    "    if acc > best_acc:\n",
    "        best_acc = acc\n",
    "        model_best = m"
   ]
  },
  {
   "cell_type": "code",
   "execution_count": 8,
   "id": "a47bc2ba",
   "metadata": {},
   "outputs": [
    {
     "name": "stdout",
     "output_type": "stream",
     "text": [
      "0.956140350877193\n",
      "[[44  3]\n",
      " [ 2 65]]\n",
      "              precision    recall  f1-score   support\n",
      "\n",
      "           0       0.96      0.94      0.95        47\n",
      "           1       0.96      0.97      0.96        67\n",
      "\n",
      "    accuracy                           0.96       114\n",
      "   macro avg       0.96      0.95      0.95       114\n",
      "weighted avg       0.96      0.96      0.96       114\n",
      "\n"
     ]
    }
   ],
   "source": [
    "y_pred = model_best.predict(X_test)\n",
    "print(accuracy_score(y_test, y_pred))\n",
    "print(confusion_matrix(y_test, y_pred))\n",
    "print(classification_report(y_test, y_pred))"
   ]
  },
  {
   "cell_type": "markdown",
   "id": "c20bd22a",
   "metadata": {},
   "source": [
    "Let's see how the tree was constructed. We can visualize the tree using text representation or plot method. <br>\n",
    "Here we build a text report of the decision tree rules."
   ]
  },
  {
   "cell_type": "code",
   "execution_count": 9,
   "id": "905f763a",
   "metadata": {},
   "outputs": [
    {
     "name": "stdout",
     "output_type": "stream",
     "text": [
      "|--- 27 <= 0.14\n",
      "|   |--- 23 <= 957.45\n",
      "|   |   |--- 10 <= 0.64\n",
      "|   |   |   |--- class: 1\n",
      "|   |   |--- 10 >  0.64\n",
      "|   |   |   |--- class: 0\n",
      "|   |--- 23 >  957.45\n",
      "|   |   |--- class: 0\n",
      "|--- 27 >  0.14\n",
      "|   |--- 2 <= 71.82\n",
      "|   |   |--- class: 1\n",
      "|   |--- 2 >  71.82\n",
      "|   |   |--- 6 <= 0.09\n",
      "|   |   |   |--- class: 1\n",
      "|   |   |--- 6 >  0.09\n",
      "|   |   |   |--- class: 0\n",
      "\n"
     ]
    }
   ],
   "source": [
    "from sklearn.tree import plot_tree, export_text\n",
    "#plot_tree(model_best)\n",
    "print(export_text(model_best, feature_names=list(X.columns)))"
   ]
  },
  {
   "cell_type": "code",
   "execution_count": 10,
   "id": "422128fe",
   "metadata": {},
   "outputs": [
    {
     "data": {
      "image/png": "[encoded data removed]",
      "text/plain": [
       "<Figure size 720x720 with 1 Axes>"
      ]
     },
     "metadata": {
      "needs_background": "light"
     },
     "output_type": "display_data"
    }
   ],
   "source": [
    "from matplotlib import pyplot as plt\n",
    "plt.figure(figsize=(10,10))\n",
    "plot_tree(model_best, feature_names=list(X.columns))\n",
    "plt.show()"
   ]
  },
  {
   "cell_type": "markdown",
   "id": "06f264da",
   "metadata": {},
   "source": [
    "Let's plot the decision boundary of the Decision Tree classifier. For this purpose we will be extracting two features and train a decision tree model using the features."
   ]
  },
  {
   "cell_type": "code",
   "execution_count": 11,
   "id": "f334a6f7",
   "metadata": {},
   "outputs": [
    {
     "data": {
      "text/plain": [
       "DecisionTreeClassifier(max_depth=7, min_samples_split=10, random_state=0)"
      ]
     },
     "execution_count": 11,
     "metadata": {},
     "output_type": "execute_result"
    }
   ],
   "source": [
    "X_train_np = X_train.values\n",
    "X2_train = X_train_np[:,:2] # Using only first two features\n",
    "index = np.where(y_train==1)[0] # Index of records where y_train = 1\n",
    "X2_train_normal = X2_train[index] # Records from X2 where y_train = 1\n",
    "y2_train_normal = y_train[index] # Entries where y_train = 1\n",
    "index = np.where(y_train==0)[0] # Index of records where y_train = 0\n",
    "X2_train_abnormal = X2_train[index] # Records from X2 where y_train = 0\n",
    "y2_train_abnormal = y_train[index] # Entries where y_train = 0\n",
    "model_dt = DecisionTreeClassifier(criterion='gini', min_samples_split=10, max_depth=d, random_state=seed_num)\n",
    "model_dt.fit(X2_train, y_train)"
   ]
  },
  {
   "cell_type": "code",
   "execution_count": 12,
   "id": "e2ea4be8",
   "metadata": {},
   "outputs": [
    {
     "data": {
      "text/plain": [
       "<matplotlib.legend.Legend at 0x7fc1200f1c40>"
      ]
     },
     "execution_count": 12,
     "metadata": {},
     "output_type": "execute_result"
    },
    {
     "data": {
      "image/png": "[encoded data removed]",
      "text/plain": [
       "<Figure size 576x576 with 1 Axes>"
      ]
     },
     "metadata": {
      "needs_background": "light"
     },
     "output_type": "display_data"
    }
   ],
   "source": [
    "from matplotlib.colors import ListedColormap\n",
    "cmap_regions = ListedColormap(['pink', 'lightsteelblue'])\n",
    "step = 0.02\n",
    "offset = 0.1\n",
    "xx1_min, xx1_max = X_train_np[:,0].min() - offset, X_train_np[:,0].max() + offset \n",
    "xx2_min, xx2_max = X_train_np[:,1].min() - offset, X_train_np[:,1].max() + offset\n",
    "xx1, xx2 = np.meshgrid(np.arange(xx1_min, xx1_max, step), np.arange(xx2_min, xx2_max, step))\n",
    "zz = model_dt.predict(np.c_[xx1.ravel(), xx2.ravel()])\n",
    "zz = zz.reshape(xx1.shape)\n",
    "\n",
    "fig = plt.figure(figsize=(8,8))\n",
    "ax = fig.add_subplot()\n",
    "ax.scatter(X2_train_normal[:,0], X2_train_normal[:,1], c='blue', label='Normal')\n",
    "ax.scatter(X2_train_abnormal[:,0], X2_train_abnormal[:,1], c='red', label='Abnormal')\n",
    "ax.contourf(xx1, xx2, zz, cmap=cmap_regions, alpha=0.5)\n",
    "plt.legend()"
   ]
  }
 ],
 "metadata": {
  "kernelspec": {
   "display_name": "Python 3 (ipykernel)",
   "language": "python",
   "name": "python3"
  },
  "language_info": {
   "codemirror_mode": {
    "name": "ipython",
    "version": 3
   },
   "file_extension": ".py",
   "mimetype": "text/x-python",
   "name": "python",
   "nbconvert_exporter": "python",
   "pygments_lexer": "ipython3",
   "version": "3.9.7"
  }
 },
 "nbformat": 4,
 "nbformat_minor": 5
}
