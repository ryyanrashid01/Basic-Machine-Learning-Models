{
 "cells": [
  {
   "cell_type": "markdown",
   "id": "b98978f0",
   "metadata": {},
   "source": [
    "# 1. Exercise"
   ]
  },
  {
   "cell_type": "markdown",
   "id": "26152499",
   "metadata": {},
   "source": [
    "Download ```stroke``` dataset from eLearn@USM and build a logistic regression classifier to classify the dataset. Use all attributes to build the classifier."
   ]
  },
  {
   "cell_type": "code",
   "execution_count": 1,
   "id": "84f58437",
   "metadata": {},
   "outputs": [
    {
     "data": {
      "text/html": [
       "<div>\n",
       "<style scoped>\n",
       "    .dataframe tbody tr th:only-of-type {\n",
       "        vertical-align: middle;\n",
       "    }\n",
       "\n",
       "    .dataframe tbody tr th {\n",
       "        vertical-align: top;\n",
       "    }\n",
       "\n",
       "    .dataframe thead th {\n",
       "        text-align: right;\n",
       "    }\n",
       "</style>\n",
       "<table border=\"1\" class=\"dataframe\">\n",
       "  <thead>\n",
       "    <tr style=\"text-align: right;\">\n",
       "      <th></th>\n",
       "      <th>id</th>\n",
       "      <th>gender</th>\n",
       "      <th>age</th>\n",
       "      <th>hypertension</th>\n",
       "      <th>heart_disease</th>\n",
       "      <th>ever_married</th>\n",
       "      <th>work_type</th>\n",
       "      <th>Residence_type</th>\n",
       "      <th>avg_glucose_level</th>\n",
       "      <th>bmi</th>\n",
       "      <th>smoking_status</th>\n",
       "      <th>stroke</th>\n",
       "    </tr>\n",
       "  </thead>\n",
       "  <tbody>\n",
       "    <tr>\n",
       "      <th>0</th>\n",
       "      <td>9046</td>\n",
       "      <td>0</td>\n",
       "      <td>67.0</td>\n",
       "      <td>0</td>\n",
       "      <td>1</td>\n",
       "      <td>0</td>\n",
       "      <td>0</td>\n",
       "      <td>0</td>\n",
       "      <td>228.69</td>\n",
       "      <td>36.6</td>\n",
       "      <td>0</td>\n",
       "      <td>1</td>\n",
       "    </tr>\n",
       "    <tr>\n",
       "      <th>1</th>\n",
       "      <td>31112</td>\n",
       "      <td>0</td>\n",
       "      <td>80.0</td>\n",
       "      <td>0</td>\n",
       "      <td>1</td>\n",
       "      <td>0</td>\n",
       "      <td>0</td>\n",
       "      <td>1</td>\n",
       "      <td>105.92</td>\n",
       "      <td>32.5</td>\n",
       "      <td>1</td>\n",
       "      <td>1</td>\n",
       "    </tr>\n",
       "    <tr>\n",
       "      <th>2</th>\n",
       "      <td>60182</td>\n",
       "      <td>1</td>\n",
       "      <td>49.0</td>\n",
       "      <td>0</td>\n",
       "      <td>0</td>\n",
       "      <td>0</td>\n",
       "      <td>0</td>\n",
       "      <td>0</td>\n",
       "      <td>171.23</td>\n",
       "      <td>34.4</td>\n",
       "      <td>2</td>\n",
       "      <td>1</td>\n",
       "    </tr>\n",
       "    <tr>\n",
       "      <th>3</th>\n",
       "      <td>1665</td>\n",
       "      <td>1</td>\n",
       "      <td>79.0</td>\n",
       "      <td>1</td>\n",
       "      <td>0</td>\n",
       "      <td>0</td>\n",
       "      <td>1</td>\n",
       "      <td>1</td>\n",
       "      <td>174.12</td>\n",
       "      <td>24.0</td>\n",
       "      <td>1</td>\n",
       "      <td>1</td>\n",
       "    </tr>\n",
       "    <tr>\n",
       "      <th>4</th>\n",
       "      <td>56669</td>\n",
       "      <td>0</td>\n",
       "      <td>81.0</td>\n",
       "      <td>0</td>\n",
       "      <td>0</td>\n",
       "      <td>0</td>\n",
       "      <td>0</td>\n",
       "      <td>0</td>\n",
       "      <td>186.21</td>\n",
       "      <td>29.0</td>\n",
       "      <td>0</td>\n",
       "      <td>1</td>\n",
       "    </tr>\n",
       "  </tbody>\n",
       "</table>\n",
       "</div>"
      ],
      "text/plain": [
       "      id  gender   age  hypertension  heart_disease  ever_married  work_type  \\\n",
       "0   9046       0  67.0             0              1             0          0   \n",
       "1  31112       0  80.0             0              1             0          0   \n",
       "2  60182       1  49.0             0              0             0          0   \n",
       "3   1665       1  79.0             1              0             0          1   \n",
       "4  56669       0  81.0             0              0             0          0   \n",
       "\n",
       "   Residence_type  avg_glucose_level   bmi  smoking_status  stroke  \n",
       "0               0             228.69  36.6               0       1  \n",
       "1               1             105.92  32.5               1       1  \n",
       "2               0             171.23  34.4               2       1  \n",
       "3               1             174.12  24.0               1       1  \n",
       "4               0             186.21  29.0               0       1  "
      ]
     },
     "execution_count": 1,
     "metadata": {},
     "output_type": "execute_result"
    }
   ],
   "source": [
    "import numpy as np\n",
    "import pandas as pd\n",
    "import warnings\n",
    "warnings.filterwarnings('ignore')\n",
    "\n",
    "stroke = pd.read_csv('Stroke/stroke.csv')\n",
    "stroke.head()"
   ]
  },
  {
   "cell_type": "markdown",
   "id": "8b2e0c27",
   "metadata": {},
   "source": [
    "As we can see there are 11 features and 1 target variable."
   ]
  },
  {
   "cell_type": "markdown",
   "id": "b7719738",
   "metadata": {},
   "source": [
    "Let's build a predictive model to classify the dataset. We split the dataset into training and test sets. A validation set is not created since we are building only one model."
   ]
  },
  {
   "cell_type": "code",
   "execution_count": 2,
   "id": "e94778c2",
   "metadata": {},
   "outputs": [
    {
     "name": "stdout",
     "output_type": "stream",
     "text": [
      "(3141, 11)\n",
      "(982, 11)\n"
     ]
    }
   ],
   "source": [
    "from sklearn.preprocessing import MinMaxScaler\n",
    "from sklearn.model_selection import train_test_split\n",
    "y = stroke['stroke'].values\n",
    "X = stroke.iloc[:,:11]\n",
    "scaler = MinMaxScaler()\n",
    "X = scaler.fit_transform(X)\n",
    "X_train, X_test, y_train, y_test = train_test_split(X, y, test_size=0.2, random_state=100)\n",
    "X_train, X_val, y_train, y_val = train_test_split(X_train, y_train, test_size=0.2, random_state=100)\n",
    "print(X_train.shape)\n",
    "print(X_test.shape)"
   ]
  },
  {
   "cell_type": "markdown",
   "id": "29400d66",
   "metadata": {},
   "source": [
    "### 1.1 Logistic Regression Classifier"
   ]
  },
  {
   "cell_type": "code",
   "execution_count": 3,
   "id": "1bf7adf0",
   "metadata": {},
   "outputs": [
    {
     "data": {
      "text/plain": [
       "SGDClassifier(eta0=0.01, learning_rate='constant', loss='log', max_iter=200,\n",
       "              penalty=None, random_state=100)"
      ]
     },
     "execution_count": 3,
     "metadata": {},
     "output_type": "execute_result"
    }
   ],
   "source": [
    "from sklearn.linear_model import SGDClassifier\n",
    "model_logr = SGDClassifier(loss='log', eta0=0.01, learning_rate='constant', penalty=None, max_iter=200, random_state=100)\n",
    "model_logr.fit(X_train, y_train)"
   ]
  },
  {
   "cell_type": "markdown",
   "id": "bb5b7025",
   "metadata": {},
   "source": [
    "Let's evaluate the performance of the model by predicting the test set."
   ]
  },
  {
   "cell_type": "code",
   "execution_count": 4,
   "id": "ea79e50c",
   "metadata": {},
   "outputs": [
    {
     "name": "stdout",
     "output_type": "stream",
     "text": [
      "0.9653767820773931\n",
      "[[948   0]\n",
      " [ 34   0]]\n",
      "              precision    recall  f1-score   support\n",
      "\n",
      "           0       0.97      1.00      0.98       948\n",
      "           1       0.00      0.00      0.00        34\n",
      "\n",
      "    accuracy                           0.97       982\n",
      "   macro avg       0.48      0.50      0.49       982\n",
      "weighted avg       0.93      0.97      0.95       982\n",
      "\n"
     ]
    }
   ],
   "source": [
    "from sklearn.metrics import accuracy_score, confusion_matrix, classification_report\n",
    "y_pred = model_logr.predict(X_test)\n",
    "print(accuracy_score(y_test, y_pred))\n",
    "print(confusion_matrix(y_test, y_pred))\n",
    "print(classification_report(y_test, y_pred))"
   ]
  },
  {
   "cell_type": "markdown",
   "id": "0dac42de",
   "metadata": {},
   "source": [
    "We can also obtain the predicted probablity using ```predict_proba``` method."
   ]
  },
  {
   "cell_type": "code",
   "execution_count": 5,
   "id": "92b02db5",
   "metadata": {},
   "outputs": [
    {
     "name": "stdout",
     "output_type": "stream",
     "text": [
      "[[0.84036419 0.15963581]\n",
      " [0.99379547 0.00620453]\n",
      " [0.95738363 0.04261637]\n",
      " [0.95460838 0.04539162]\n",
      " [0.56517472 0.43482528]]\n"
     ]
    }
   ],
   "source": [
    "y_pred_proba = model_logr.predict_proba(X_test)\n",
    "print(y_pred_proba[:5,:])\n",
    "y0_prob = y_pred_proba[:,0]"
   ]
  }
 ],
 "metadata": {
  "kernelspec": {
   "display_name": "Python 3 (ipykernel)",
   "language": "python",
   "name": "python3"
  },
  "language_info": {
   "codemirror_mode": {
    "name": "ipython",
    "version": 3
   },
   "file_extension": ".py",
   "mimetype": "text/x-python",
   "name": "python",
   "nbconvert_exporter": "python",
   "pygments_lexer": "ipython3",
   "version": "3.9.7"
  }
 },
 "nbformat": 4,
 "nbformat_minor": 5
}
